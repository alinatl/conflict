{
 "cells": [
  {
   "cell_type": "code",
   "execution_count": 222,
   "metadata": {},
   "outputs": [],
   "source": [
    "import pandas as pd\n",
    "from sklearn.feature_extraction.text import CountVectorizer\n",
    "from sklearn.utils import shuffle\n",
    "from sklearn.naive_bayes import MultinomialNB\n",
    "from sklearn.metrics import accuracy_score\n",
    "from sklearn.metrics import f1_score\n",
    "from sklearn.metrics import precision_score\n",
    "from sklearn.metrics import recall_score\n",
    "import re\n",
    "import pymorphy2\n",
    "morph = pymorphy2.MorphAnalyzer()\n",
    "from sklearn.model_selection import train_test_split, KFold, StratifiedKFold,  RepeatedStratifiedKFold, GridSearchCV\n",
    "from sklearn import linear_model\n",
    "from sklearn.feature_extraction.text import TfidfVectorizer"
   ]
  },
  {
   "cell_type": "code",
   "execution_count": 223,
   "metadata": {},
   "outputs": [],
   "source": [
    "import nltk\n",
    "from nltk.corpus import stopwords"
   ]
  },
  {
   "cell_type": "code",
   "execution_count": 224,
   "metadata": {},
   "outputs": [],
   "source": [
    "# list_stopwords = stopwords.words('russian')"
   ]
  },
  {
   "cell_type": "code",
   "execution_count": 225,
   "metadata": {},
   "outputs": [],
   "source": [
    "def make_label(label):\n",
    "    if label == 0:\n",
    "        return 0\n",
    "    elif label > 2:\n",
    "        return 1\n",
    "    \n",
    "def tokenize_ru(sentence):\n",
    "    sentence = re.sub(r'\\[.+\\|.+\\],\\s', '', str(sentence))\n",
    "    sentence = sentence.replace('\\n', ' ').replace('/', ' ')\n",
    "    sentence = re.sub(r'[\\'\"”\\,\\!\\?\\.\\-\\(\\)\\[\\]\\:\\;\\»\\«\\>\\—]', ' ', str(sentence).rstrip(\"']\"))\n",
    "    sentence = re.sub(r'[0-9]', '', str(sentence))\n",
    "    sentence = sentence.lower()\n",
    "    tokens = sentence.split()\n",
    "#     tokens = [i for i in tokens if (i not in stop_words)]\n",
    "    tokens = [morph.parse(i)[0].normal_form for i in tokens]\n",
    "    tokens = ' '.join(tokens)\n",
    "    return tokens"
   ]
  },
  {
   "cell_type": "code",
   "execution_count": 226,
   "metadata": {},
   "outputs": [],
   "source": [
    "def create_text_context(df_row):\n",
    "    df_cont_text = []\n",
    "#     print(df_row.shape)\n",
    "    for i, row in df_row.iterrows():\n",
    "        cont_text = str(row['контекст']) + '. ' +  str(row['текст']) \n",
    "        cont_text = tokenize_ru(cont_text)\n",
    "        df_cont_text.append(cont_text)\n",
    "#     df_row['текст_контекст'] = cont_text\n",
    "    return df_cont_text\n",
    "\n",
    "# data = data.dropna()[['контекст', 'текст', 'label']]\n",
    "# list_text_cont = create_text_context(data[['контекст', 'текст']])"
   ]
  },
  {
   "cell_type": "markdown",
   "metadata": {},
   "source": [
    "# обработка текста"
   ]
  },
  {
   "cell_type": "code",
   "execution_count": 227,
   "metadata": {},
   "outputs": [],
   "source": [
    "data = pd.read_excel('data_class.xlsx')\n",
    "data = shuffle(data) #перемешиваем данные"
   ]
  },
  {
   "cell_type": "code",
   "execution_count": null,
   "metadata": {},
   "outputs": [],
   "source": []
  },
  {
   "cell_type": "code",
   "execution_count": 228,
   "metadata": {},
   "outputs": [
    {
     "name": "stdout",
     "output_type": "stream",
     "text": [
      "(1702, 5)\n"
     ]
    },
    {
     "data": {
      "text/html": [
       "<div>\n",
       "<style scoped>\n",
       "    .dataframe tbody tr th:only-of-type {\n",
       "        vertical-align: middle;\n",
       "    }\n",
       "\n",
       "    .dataframe tbody tr th {\n",
       "        vertical-align: top;\n",
       "    }\n",
       "\n",
       "    .dataframe thead th {\n",
       "        text-align: right;\n",
       "    }\n",
       "</style>\n",
       "<table border=\"1\" class=\"dataframe\">\n",
       "  <thead>\n",
       "    <tr style=\"text-align: right;\">\n",
       "      <th></th>\n",
       "      <th>контекст</th>\n",
       "      <th>текст</th>\n",
       "      <th>label</th>\n",
       "      <th>text_cont</th>\n",
       "      <th>label_num</th>\n",
       "    </tr>\n",
       "  </thead>\n",
       "  <tbody>\n",
       "    <tr>\n",
       "      <th>2390</th>\n",
       "      <td>да вы хоть все сдохните, а обнулиться надо</td>\n",
       "      <td>[id461498232|Андрей], +</td>\n",
       "      <td>0</td>\n",
       "      <td>да вы хоть весь сдохнуть а обнулиться надо +</td>\n",
       "      <td>0.0</td>\n",
       "    </tr>\n",
       "    <tr>\n",
       "      <th>336</th>\n",
       "      <td>[id161201697|Александр], а если бы пропуска не...</td>\n",
       "      <td>[id139627374|Alesia], ну так люди всем недовол...</td>\n",
       "      <td>0</td>\n",
       "      <td>ну так человек весь недовольный всегда я уже п...</td>\n",
       "      <td>0.0</td>\n",
       "    </tr>\n",
       "    <tr>\n",
       "      <th>1251</th>\n",
       "      <td>Если ему скажут,что он в белой рубашке ,а сам ...</td>\n",
       "      <td>[id473451806|Аскар], это тупо же</td>\n",
       "      <td>3</td>\n",
       "      <td>если он сказать что он в бела рубашка а сам чё...</td>\n",
       "      <td>1.0</td>\n",
       "    </tr>\n",
       "    <tr>\n",
       "      <th>1655</th>\n",
       "      <td>...и кто его выключает</td>\n",
       "      <td>[id34276500|Екатерина], размыкается электричес...</td>\n",
       "      <td>0</td>\n",
       "      <td>и кто он выключать размыкаться электрический цепь</td>\n",
       "      <td>0.0</td>\n",
       "    </tr>\n",
       "    <tr>\n",
       "      <th>609</th>\n",
       "      <td>а все кто называет свою страну рашка, не уважа...</td>\n",
       "      <td>[id23808109|Константин], сколько гнили от вас</td>\n",
       "      <td>3</td>\n",
       "      <td>а весь кто называть свой страна рашка не уважа...</td>\n",
       "      <td>1.0</td>\n",
       "    </tr>\n",
       "    <tr>\n",
       "      <th>...</th>\n",
       "      <td>...</td>\n",
       "      <td>...</td>\n",
       "      <td>...</td>\n",
       "      <td>...</td>\n",
       "      <td>...</td>\n",
       "    </tr>\n",
       "    <tr>\n",
       "      <th>923</th>\n",
       "      <td>Блять ты основу скинь свою репортик нахуй закину</td>\n",
       "      <td>[id285196935|Алексей], ебать, расист собрался ...</td>\n",
       "      <td>3</td>\n",
       "      <td>блять ты основа скинуть свой репортик нахуй за...</td>\n",
       "      <td>1.0</td>\n",
       "    </tr>\n",
       "    <tr>\n",
       "      <th>2903</th>\n",
       "      <td>[id41846458|Александр], они хоть без ошибок пи...</td>\n",
       "      <td>[id461729860|Алексей], ну, я скажу так, что па...</td>\n",
       "      <td>3</td>\n",
       "      <td>ну я сказать так что палка в говно тыкать и об...</td>\n",
       "      <td>1.0</td>\n",
       "    </tr>\n",
       "    <tr>\n",
       "      <th>1845</th>\n",
       "      <td>[id407630175|Сергей], шпалы то как гнут ?</td>\n",
       "      <td>[id341223747|Кирилл], как гнут? Руками...</td>\n",
       "      <td>0</td>\n",
       "      <td>как гнутый рука</td>\n",
       "      <td>0.0</td>\n",
       "    </tr>\n",
       "    <tr>\n",
       "      <th>1548</th>\n",
       "      <td>1</td>\n",
       "      <td>[id507822717|Игорь],  ты первый только в списк...</td>\n",
       "      <td>3</td>\n",
       "      <td>ты один только в список даун</td>\n",
       "      <td>1.0</td>\n",
       "    </tr>\n",
       "    <tr>\n",
       "      <th>1245</th>\n",
       "      <td>Стих подучился кривым. Последняя строчка слишк...</td>\n",
       "      <td>[id411336886|Даниил], \\nОни могут взглядом лом...</td>\n",
       "      <td>0</td>\n",
       "      <td>стихнуть подучиться кривая последний строчка с...</td>\n",
       "      <td>0.0</td>\n",
       "    </tr>\n",
       "  </tbody>\n",
       "</table>\n",
       "<p>1702 rows × 5 columns</p>\n",
       "</div>"
      ],
      "text/plain": [
       "                                               контекст  \\\n",
       "2390         да вы хоть все сдохните, а обнулиться надо   \n",
       "336   [id161201697|Александр], а если бы пропуска не...   \n",
       "1251  Если ему скажут,что он в белой рубашке ,а сам ...   \n",
       "1655                             ...и кто его выключает   \n",
       "609   а все кто называет свою страну рашка, не уважа...   \n",
       "...                                                 ...   \n",
       "923    Блять ты основу скинь свою репортик нахуй закину   \n",
       "2903  [id41846458|Александр], они хоть без ошибок пи...   \n",
       "1845          [id407630175|Сергей], шпалы то как гнут ?   \n",
       "1548                                                  1   \n",
       "1245  Стих подучился кривым. Последняя строчка слишк...   \n",
       "\n",
       "                                                  текст  label  \\\n",
       "2390                            [id461498232|Андрей], +      0   \n",
       "336   [id139627374|Alesia], ну так люди всем недовол...      0   \n",
       "1251                   [id473451806|Аскар], это тупо же      3   \n",
       "1655  [id34276500|Екатерина], размыкается электричес...      0   \n",
       "609       [id23808109|Константин], сколько гнили от вас      3   \n",
       "...                                                 ...    ...   \n",
       "923   [id285196935|Алексей], ебать, расист собрался ...      3   \n",
       "2903  [id461729860|Алексей], ну, я скажу так, что па...      3   \n",
       "1845          [id341223747|Кирилл], как гнут? Руками...      0   \n",
       "1548  [id507822717|Игорь],  ты первый только в списк...      3   \n",
       "1245  [id411336886|Даниил], \\nОни могут взглядом лом...      0   \n",
       "\n",
       "                                              text_cont  label_num  \n",
       "2390       да вы хоть весь сдохнуть а обнулиться надо +        0.0  \n",
       "336   ну так человек весь недовольный всегда я уже п...        0.0  \n",
       "1251  если он сказать что он в бела рубашка а сам чё...        1.0  \n",
       "1655  и кто он выключать размыкаться электрический цепь        0.0  \n",
       "609   а весь кто называть свой страна рашка не уважа...        1.0  \n",
       "...                                                 ...        ...  \n",
       "923   блять ты основа скинуть свой репортик нахуй за...        1.0  \n",
       "2903  ну я сказать так что палка в говно тыкать и об...        1.0  \n",
       "1845                                    как гнутый рука        0.0  \n",
       "1548                       ты один только в список даун        1.0  \n",
       "1245  стихнуть подучиться кривая последний строчка с...        0.0  \n",
       "\n",
       "[1702 rows x 5 columns]"
      ]
     },
     "execution_count": 228,
     "metadata": {},
     "output_type": "execute_result"
    }
   ],
   "source": [
    "data = data.dropna()[['контекст', 'текст', 'label']]\n",
    "# print(data[data['label'] == 0].shape[0], data[data['label'] == 1].shape[0], data[data['label'] == 2].shape[0], data[data['label'] == 3].shape[0])\n",
    "\n",
    "# токенизация \n",
    "list_text_cont = create_text_context(data[['контекст', 'текст']])\n",
    "data['text_cont'] = list_text_cont\n",
    "list_train_label = data['label'].apply(make_label).tolist()\n",
    "data['label_num'] = list_train_label\n",
    "data = data.dropna()\n",
    "\n",
    "# data['текст_леммат'] = data['текст'].apply(tokenize_ru)\n",
    "print(data.shape)\n",
    "\n",
    "data_train = data[:1000]\n",
    "data_test = data[1000:]\n",
    "\n",
    "# перевожу лейблы в промежуток [0, 1]\n",
    "# list_train_label = data_train['label'].apply(make_label).tolist()\n",
    "# list_test_label =  data_test['label'].apply(make_label).tolist()\n",
    "# list_all_label = list_train_label + list_test_label\n",
    "\n",
    "\n",
    "# data_all = pd.concat([data_train, data_test])\n",
    "# data_all['label_num'] = list_all_label\n",
    "# data_all = data_all.dropna()\n",
    "# data_all.loc[2547, 'текст']\n",
    "data"
   ]
  },
  {
   "cell_type": "markdown",
   "metadata": {},
   "source": [
    "# векторизаторы"
   ]
  },
  {
   "cell_type": "code",
   "execution_count": 229,
   "metadata": {},
   "outputs": [],
   "source": [
    "count_vect = CountVectorizer()\n",
    "vect_tf = TfidfVectorizer()\n",
    "\n",
    "# X_train_test_counts = count_vect.fit_transform(data_all['text_cont'])\n",
    "X_train_test_counts = vect_tf.fit_transform(data['text_cont'])"
   ]
  },
  {
   "cell_type": "code",
   "execution_count": 230,
   "metadata": {},
   "outputs": [
    {
     "data": {
      "text/plain": [
       "(1702, 4556)"
      ]
     },
     "execution_count": 230,
     "metadata": {},
     "output_type": "execute_result"
    }
   ],
   "source": [
    "X_train_test_counts.shape\n",
    "# (2972, 5977)"
   ]
  },
  {
   "cell_type": "code",
   "execution_count": 231,
   "metadata": {},
   "outputs": [],
   "source": [
    "# X_train_counts = X_train_test_counts[:2000] #векторизованная тренировочная выборка\n",
    "# x_test = X_train_test_counts [2000:] #векторизованная тестовая выборка"
   ]
  },
  {
   "cell_type": "code",
   "execution_count": 232,
   "metadata": {},
   "outputs": [],
   "source": [
    "x_train = X_train_test_counts[:1000]\n",
    "x_test = X_train_test_counts [1000:]\n",
    "y_train = data_train['label_num']\n",
    "y_test = data_test['label_num']"
   ]
  },
  {
   "cell_type": "markdown",
   "metadata": {},
   "source": [
    "# байесовский классификатор"
   ]
  },
  {
   "cell_type": "code",
   "execution_count": 233,
   "metadata": {},
   "outputs": [],
   "source": [
    "clf = MultinomialNB().fit(x_train, y_train)\n",
    "predicted = clf.predict(x_test)"
   ]
  },
  {
   "cell_type": "code",
   "execution_count": 234,
   "metadata": {},
   "outputs": [
    {
     "name": "stdout",
     "output_type": "stream",
     "text": [
      "155.0 702 547.0\n"
     ]
    }
   ],
   "source": [
    "print(predicted.sum(), len(y_test), len(y_test)-predicted.sum())\n",
    "log_probs = clf.predict_proba(x_test)\n",
    "log_probs = log_probs[:, 1]"
   ]
  },
  {
   "cell_type": "code",
   "execution_count": 235,
   "metadata": {
    "scrolled": true
   },
   "outputs": [
    {
     "data": {
      "text/plain": [
       "((1702, 5), (702, 5))"
      ]
     },
     "execution_count": 235,
     "metadata": {},
     "output_type": "execute_result"
    }
   ],
   "source": [
    "data_test[data_test['label'] == 1]\n",
    "data.shape, data_test.shape"
   ]
  },
  {
   "cell_type": "markdown",
   "metadata": {},
   "source": [
    "# 15 самых кооперативных и самых агрессивные комментов. наивный байес"
   ]
  },
  {
   "cell_type": "code",
   "execution_count": 236,
   "metadata": {},
   "outputs": [
    {
     "name": "stdout",
     "output_type": "stream",
     "text": [
      "3 Иди прославляй свою задницу в другом месте) 🤣🤣🤣\n",
      "3 а я понял ты из тех кто любит говорит то о чём у самого болит? ну извеняй я не из таких как ты я нормальный гетеро, а мне твои гомо штучки не к чему))😂😂🤣\n",
      "3 а я понял ты из тех кто любит говорит то о чём у самого болит? ну извеняй я не из таких как ты я нормальный гетеро, а мне твои гомо штучки не к чему))😂😂🤣\n",
      "3 [id23808109|Константин], нахуй никому не сдался! Лучше б вместо показухи реально помогали ветеранам!\n",
      "3 [id438610839|Беспечный], пиздец ты тупой\n",
      "3 Долбаёб ты знаешь вообще что такое нацизм тупой даун тебе лет 12 с таким мозгом\n",
      "3 [id23808109|Константин], сколько гнили от вас\n",
      "3 [id563373962|Алексей], ебать ты тупой, с такой логикой тебе в наса главным инженером нахуй.\n",
      "3 это ты в парашке и в головке у тебя парашка, а парад всем нужен\n",
      "3 [id514692639|Стас], брысь\n",
      "3 [id248747466|Амир], каждый твой комент - не понял.\n",
      "Ты чё, Валакас? \n",
      "Или просто глупый?\n",
      "3 [id172258851|Олег], тебя твоя мамка не научила чем отличается \"о\" от \"из\"? \n",
      "Твой случай, когда хотел выипнуться, но мозгов не хватило... Взрослый людь))\n",
      "3 [id597046579|Лев], них*я тут кремлеботов повылазило\n",
      "3 [id594746386|Дмитрий], кремлебот лови бан\n",
      "3 [id537386630|Amir], скорее всем похуй на него\n",
      "\n",
      "\n",
      " позитивные \n",
      "\n",
      "0 Активисты черные, уголь активированный тоже должен быть черным\n",
      "0 [id18678266|Дмитрий], чёрный быстрее работает\n",
      "0 [id581058708|Konstantin], и воды\n",
      "0 [id595410276|Алан], кто получает 40?\n",
      "0 Но очень интересно)))\n",
      "0 [id316678|Vincent], согласен, это если брать ипотеку на 10 лет, но это уже осознанный выбор и я не скажу, что он плохой. Я бы и сам себя ограничил на 10 лет, чем в кабалу на те же 25. Я вашу позицию понял и теперь могу с ней согласиться)\n",
      "0 Ага, есть, к белым)\n",
      "3 [id594746386|Дмитрий], а ничего что в поправках нет ничего про то что ты высрал?\n",
      "0 [id1321669|Stanislav], зил арт смотрел кстати, там дороговато, помню что двушек норм за 8 не нашёл, а вообще Автаз мне нравится, но лучше бы поближе к метро (зил всё-таки обособлено через мост стоит)\n",
      "0 [id581758097|Иван], 9379992\n",
      "0 [id581758097|Иван], 8-800-555-35-35\n",
      "0 Да звони\n",
      "0 [id595410276|Алан], 10\n",
      "0 [id595410276|Алан], 10\n",
      "0 [id44522131|Женя], а где Пегас? Таскал плесневелые сиги 80+ годов из шкафа для белья и курил...\n",
      "А так Честер синий- Ван лав😂😁😂😁😂\n",
      "Хотя не курю уже больше 5 лет\n"
     ]
    }
   ],
   "source": [
    "for i in log_probs.argsort()[-15:][::-1]: # 15 most negative\n",
    "#     count_idx = 1000 + i\n",
    "#     print(data_test.shape)\n",
    "    print(data_test.iloc[i]['label'], data_test.iloc[i]['текст'])\n",
    "#     print('\\n')\n",
    "\n",
    "print('\\n\\n', 'позитивные', '\\n')\n",
    "for i in log_probs.argsort()[:15]: # 15 most positive\n",
    "#     count_idx = 1000 + i\n",
    "    print(data_test.iloc[i]['label'], data_test.iloc[i]['текст'])\n",
    "#     print('\\n')"
   ]
  },
  {
   "cell_type": "code",
   "execution_count": 237,
   "metadata": {},
   "outputs": [
    {
     "name": "stdout",
     "output_type": "stream",
     "text": [
      "acc=0.8020\n",
      "micro F1=0.8020, micro P=0.8020, micro R=0.8020\n",
      "macro F1=0.7623, macro P=0.8336, macro R=0.7462\n",
      "\n"
     ]
    }
   ],
   "source": [
    "acc = accuracy_score(y_test, predicted)\n",
    "micro_f1 = f1_score(y_test, predicted, average = 'micro')\n",
    "micro_p = precision_score(y_test, predicted, average = 'micro')\n",
    "micro_r = recall_score(y_test, predicted, average = 'micro')\n",
    "macro_f1 = f1_score(y_test, predicted, average = 'macro')\n",
    "macro_p = precision_score(y_test, predicted, average = 'macro')\n",
    "macro_r = recall_score(y_test, predicted, average = 'macro')\n",
    "print('acc={0:1.4f}'.format(acc))\n",
    "print('micro F1={0:1.4f}, micro P={1:1.4f}, micro R={2:1.4f}'.format(micro_f1, micro_p, micro_r))\n",
    "print('macro F1={0:1.4f}, macro P={1:1.4f}, macro R={2:1.4f}\\n'.format(macro_f1, macro_p, macro_r))"
   ]
  },
  {
   "cell_type": "code",
   "execution_count": 238,
   "metadata": {},
   "outputs": [],
   "source": [
    "# acc=0.7377\n",
    "# micro F1=0.7377, micro P=0.7377, micro R=0.7377\n",
    "# macro F1=0.7102, macro P=0.7113, macro R=0.7093"
   ]
  },
  {
   "cell_type": "code",
   "execution_count": 239,
   "metadata": {},
   "outputs": [],
   "source": [
    "import numpy as np\n",
    "from sklearn.metrics import roc_auc_score, roc_curve\n",
    "from matplotlib import pyplot"
   ]
  },
  {
   "cell_type": "markdown",
   "metadata": {},
   "source": [
    "# метрики наивный байес"
   ]
  },
  {
   "cell_type": "code",
   "execution_count": 240,
   "metadata": {},
   "outputs": [
    {
     "name": "stdout",
     "output_type": "stream",
     "text": [
      "(702,) (702,)\n"
     ]
    },
    {
     "data": {
      "image/png": "[encoded data removed]",
      "text/plain": [
       "<Figure size 432x288 with 1 Axes>"
      ]
     },
     "metadata": {
      "needs_background": "light"
     },
     "output_type": "display_data"
    }
   ],
   "source": [
    "y_true = np.array(y_test.astype(int))\n",
    "\n",
    "# predicted1 = pd.DataFrame(predicted, columns = ['target']).astype(int)\n",
    "y_predicted = np.array(log_probs) #predicted1['target'])\n",
    "print(y_predicted.shape, y_test.shape)\n",
    "fpr, tpr, thrhld = roc_curve(y_true, y_predicted)\n",
    "pyplot.plot(fpr, tpr, marker='.', label='Test')\n",
    "pyplot.xlabel('False Positive Rate')\n",
    "pyplot.ylabel('True Positive Rate')\n",
    "pyplot.legend()\n",
    "pyplot.show()"
   ]
  },
  {
   "cell_type": "code",
   "execution_count": 241,
   "metadata": {},
   "outputs": [
    {
     "name": "stdout",
     "output_type": "stream",
     "text": [
      "0.9003045596937\n"
     ]
    }
   ],
   "source": [
    "print(roc_auc_score(y_true, y_predicted))"
   ]
  },
  {
   "cell_type": "code",
   "execution_count": 242,
   "metadata": {},
   "outputs": [],
   "source": [
    "# X_train = X_train_counts\n",
    "# y_train = data_train['label']\n",
    "# y_test = data_test['label']"
   ]
  },
  {
   "cell_type": "markdown",
   "metadata": {},
   "source": [
    "# как хорошо мы предсказываем, если наше предсказание случайно? "
   ]
  },
  {
   "cell_type": "code",
   "execution_count": 243,
   "metadata": {},
   "outputs": [],
   "source": [
    "model = linear_model.LogisticRegression()\n",
    "model = model.fit(x_train, y_train)"
   ]
  },
  {
   "cell_type": "code",
   "execution_count": 244,
   "metadata": {},
   "outputs": [
    {
     "data": {
      "text/plain": [
       "0.34603743722846597"
      ]
     },
     "execution_count": 244,
     "metadata": {},
     "output_type": "execute_result"
    }
   ],
   "source": [
    "import numpy as np\n",
    "from sklearn.metrics import mean_squared_error\n",
    "\n",
    "random_prediction = np.random.rand(len(y_test))\n",
    "mean_squared_error(y_test, random_prediction)"
   ]
  },
  {
   "cell_type": "markdown",
   "metadata": {},
   "source": [
    "# логистическая регрессия"
   ]
  },
  {
   "cell_type": "code",
   "execution_count": 245,
   "metadata": {},
   "outputs": [
    {
     "name": "stdout",
     "output_type": "stream",
     "text": [
      "result on test: 0.7991452991452992\n"
     ]
    }
   ],
   "source": [
    "# train_preds = model.predict(X_train)\n",
    "test_preds = model.predict(x_test)\n",
    "\n",
    "log_probs = clf.predict_proba(x_test)\n",
    "log_probs = log_probs[:, 1]\n",
    "\n",
    "print('result on test: {}'.format(f1_score(y_test, test_preds, average='micro')))"
   ]
  },
  {
   "cell_type": "markdown",
   "metadata": {},
   "source": [
    "# 15 самых кооперативных и самых агрессивные комментов для логистической регрессии"
   ]
  },
  {
   "cell_type": "code",
   "execution_count": 246,
   "metadata": {},
   "outputs": [
    {
     "name": "stdout",
     "output_type": "stream",
     "text": [
      "\n",
      "\n",
      " негативные \n",
      "\n",
      "\n",
      "3 Иди прославляй свою задницу в другом месте) 🤣🤣🤣\n",
      "3 а я понял ты из тех кто любит говорит то о чём у самого болит? ну извеняй я не из таких как ты я нормальный гетеро, а мне твои гомо штучки не к чему))😂😂🤣\n",
      "3 а я понял ты из тех кто любит говорит то о чём у самого болит? ну извеняй я не из таких как ты я нормальный гетеро, а мне твои гомо штучки не к чему))😂😂🤣\n",
      "3 [id23808109|Константин], нахуй никому не сдался! Лучше б вместо показухи реально помогали ветеранам!\n",
      "3 [id438610839|Беспечный], пиздец ты тупой\n",
      "3 Долбаёб ты знаешь вообще что такое нацизм тупой даун тебе лет 12 с таким мозгом\n",
      "3 [id23808109|Константин], сколько гнили от вас\n",
      "3 [id563373962|Алексей], ебать ты тупой, с такой логикой тебе в наса главным инженером нахуй.\n",
      "3 это ты в парашке и в головке у тебя парашка, а парад всем нужен\n",
      "3 [id514692639|Стас], брысь\n",
      "3 [id248747466|Амир], каждый твой комент - не понял.\n",
      "Ты чё, Валакас? \n",
      "Или просто глупый?\n",
      "3 [id172258851|Олег], тебя твоя мамка не научила чем отличается \"о\" от \"из\"? \n",
      "Твой случай, когда хотел выипнуться, но мозгов не хватило... Взрослый людь))\n",
      "3 [id597046579|Лев], них*я тут кремлеботов повылазило\n",
      "3 [id594746386|Дмитрий], кремлебот лови бан\n",
      "3 [id537386630|Amir], скорее всем похуй на него\n",
      "\n",
      "\n",
      " позитивные \n",
      "\n",
      "0 Активисты черные, уголь активированный тоже должен быть черным\n",
      "0 [id18678266|Дмитрий], чёрный быстрее работает\n",
      "0 [id581058708|Konstantin], и воды\n",
      "0 [id595410276|Алан], кто получает 40?\n",
      "0 Но очень интересно)))\n",
      "0 [id316678|Vincent], согласен, это если брать ипотеку на 10 лет, но это уже осознанный выбор и я не скажу, что он плохой. Я бы и сам себя ограничил на 10 лет, чем в кабалу на те же 25. Я вашу позицию понял и теперь могу с ней согласиться)\n",
      "0 Ага, есть, к белым)\n",
      "3 [id594746386|Дмитрий], а ничего что в поправках нет ничего про то что ты высрал?\n",
      "0 [id1321669|Stanislav], зил арт смотрел кстати, там дороговато, помню что двушек норм за 8 не нашёл, а вообще Автаз мне нравится, но лучше бы поближе к метро (зил всё-таки обособлено через мост стоит)\n",
      "0 [id581758097|Иван], 9379992\n",
      "0 [id581758097|Иван], 8-800-555-35-35\n",
      "0 Да звони\n",
      "0 [id595410276|Алан], 10\n",
      "0 [id595410276|Алан], 10\n",
      "0 [id44522131|Женя], а где Пегас? Таскал плесневелые сиги 80+ годов из шкафа для белья и курил...\n",
      "А так Честер синий- Ван лав😂😁😂😁😂\n",
      "Хотя не курю уже больше 5 лет\n"
     ]
    }
   ],
   "source": [
    "print('\\n\\n', 'негативные', '\\n\\n')\n",
    "for i in log_probs.argsort()[-15:][::-1]: # 15 most negative\n",
    "#     count_idx = 1000 + i\n",
    "#     print(data_test.shape)\n",
    "    print(data_test.iloc[i]['label'], data_test.iloc[i]['текст'])\n",
    "#     print('\\n')\n",
    "\n",
    "print('\\n\\n', 'позитивные', '\\n')\n",
    "for i in log_probs.argsort()[:15]: # 15 most positive\n",
    "#     count_idx = 1000 + i\n",
    "    print(data_test.iloc[i]['label'], data_test.iloc[i]['текст'])\n",
    "#     print('\\n')"
   ]
  },
  {
   "cell_type": "markdown",
   "metadata": {},
   "source": [
    "# метрики логистический регрессии"
   ]
  },
  {
   "cell_type": "code",
   "execution_count": 247,
   "metadata": {},
   "outputs": [
    {
     "name": "stdout",
     "output_type": "stream",
     "text": [
      "acc=0.7991\n",
      "micro F1=0.7991, micro P=0.7991, micro R=0.7991\n",
      "macro F1=0.7627, macro P=0.8188, macro R=0.7479\n",
      "\n"
     ]
    }
   ],
   "source": [
    "acc = accuracy_score(y_test, test_preds)\n",
    "micro_f1 = f1_score(y_test, test_preds, average = 'micro')\n",
    "micro_p = precision_score(y_test, test_preds, average = 'micro')\n",
    "micro_r = recall_score(y_test, test_preds, average = 'micro')\n",
    "macro_f1 = f1_score(y_test, test_preds, average = 'macro')\n",
    "macro_p = precision_score(y_test, test_preds, average = 'macro')\n",
    "macro_r = recall_score(y_test, test_preds, average = 'macro')\n",
    "print('acc={0:1.4f}'.format(acc))\n",
    "print('micro F1={0:1.4f}, micro P={1:1.4f}, micro R={2:1.4f}'.format(micro_f1, micro_p, micro_r))\n",
    "print('macro F1={0:1.4f}, macro P={1:1.4f}, macro R={2:1.4f}\\n'.format(macro_f1, macro_p, macro_r))"
   ]
  },
  {
   "cell_type": "code",
   "execution_count": 248,
   "metadata": {},
   "outputs": [
    {
     "name": "stdout",
     "output_type": "stream",
     "text": [
      "0.7478506787330316\n"
     ]
    }
   ],
   "source": [
    "print(roc_auc_score(y_true, test_preds))"
   ]
  },
  {
   "cell_type": "markdown",
   "metadata": {},
   "source": [
    "# тут уже можно не смотреть, я не уверена в результатах"
   ]
  },
  {
   "cell_type": "code",
   "execution_count": 249,
   "metadata": {},
   "outputs": [],
   "source": [
    "n_fold = 5\n",
    "folds = KFold(n_splits=n_fold, shuffle=True, random_state=0)\n",
    "stratified_folds = StratifiedKFold(n_splits=n_fold, shuffle=True, random_state=0)\n",
    "repeated_folds = RepeatedStratifiedKFold(n_splits=n_fold, n_repeats=20, random_state=0)"
   ]
  },
  {
   "cell_type": "code",
   "execution_count": 250,
   "metadata": {},
   "outputs": [
    {
     "name": "stdout",
     "output_type": "stream",
     "text": [
      "TRAIN: 800 TEST: 200\n",
      "value_counts [(0.0, 121), (1.0, 79)]\n",
      "\n",
      "TRAIN: 800 TEST: 200\n",
      "value_counts [(0.0, 121), (1.0, 79)]\n",
      "\n",
      "TRAIN: 800 TEST: 200\n",
      "value_counts [(0.0, 120), (1.0, 80)]\n",
      "\n",
      "TRAIN: 800 TEST: 200\n",
      "value_counts [(0.0, 120), (1.0, 80)]\n",
      "\n",
      "TRAIN: 800 TEST: 200\n",
      "value_counts [(0.0, 120), (1.0, 80)]\n",
      "\n"
     ]
    }
   ],
   "source": [
    "for train_index, valid_index in stratified_folds.split(x_train, y_train):\n",
    "#     print(train_index, valid_index)\n",
    "    print(\"TRAIN:\", len(train_index), \"TEST:\", len(valid_index))\n",
    "    to_validate = y_train.iloc[valid_index]\n",
    "    cls, counts = np.unique(to_validate, return_counts=True)\n",
    "    print('value_counts {}\\n'.format([(cl, value) for cl, value in zip(cls, counts)]))"
   ]
  },
  {
   "cell_type": "code",
   "execution_count": 251,
   "metadata": {},
   "outputs": [],
   "source": [
    "class_number = 2"
   ]
  },
  {
   "cell_type": "code",
   "execution_count": 252,
   "metadata": {},
   "outputs": [],
   "source": [
    "def cv_train_model(X, y, X_test, y_test, folds=folds, model=None):\n",
    "    prediction = np.zeros((len(y_test), class_number))\n",
    "    valid_scores = []\n",
    "    #feature_importance = pd.DataFrame()\n",
    "    for fold_n, (train_index, valid_index) in enumerate(folds.split(X, y)):\n",
    "        X_train, X_valid = X[train_index], X[valid_index]\n",
    "        y_train, y_valid = y.iloc[train_index], y.iloc[valid_index]\n",
    "        \n",
    "        model.fit(X_train, y_train)      \n",
    "        y_pred_test_proba = model.predict_proba(X_test)\n",
    "        y_pred_valid = model.predict(X_valid)\n",
    "        #ipdb.set_trace()\n",
    "        valid_score = f1_score(y_valid, y_pred_valid, average='micro')\n",
    "        \n",
    "        valid_scores.append(valid_score)\n",
    "        prediction += y_pred_test_proba \n",
    "        \n",
    "    prediction /= (fold_n + 1)\n",
    "    prediction = np.argmax(prediction, axis=1)\n",
    "    test_score_proba_sum = f1_score(y_test, prediction, average='micro')\n",
    "    print('Cross Validation mean score: {0:.4f}, std: {1:.4f}.'.format(np.mean(valid_scores), np.std(valid_scores)))\n",
    "    print(\"score on test data: {0:.4f}\".format(test_score_proba_sum)) \n",
    "\n",
    "    return prediction, valid_scores"
   ]
  },
  {
   "cell_type": "markdown",
   "metadata": {},
   "source": [
    "# логистическая регрессия с использованием кросс валидации"
   ]
  },
  {
   "cell_type": "code",
   "execution_count": 253,
   "metadata": {},
   "outputs": [
    {
     "name": "stdout",
     "output_type": "stream",
     "text": [
      "Cross Validation mean score: 0.7650, std: 0.0283.\n",
      "score on test data: 0.7821\n"
     ]
    }
   ],
   "source": [
    "model = linear_model.LogisticRegression()\n",
    "prediction_lr, scores = cv_train_model(x_train, y_train, x_test, y_test,  model=model,  folds=folds)"
   ]
  },
  {
   "cell_type": "code",
   "execution_count": 254,
   "metadata": {},
   "outputs": [
    {
     "name": "stdout",
     "output_type": "stream",
     "text": [
      "Cross Validation mean score: 0.7570, std: 0.0186.\n",
      "score on test data: 0.7806\n"
     ]
    }
   ],
   "source": [
    "model = linear_model.LogisticRegression()\n",
    "prediction_lr_stratified, scores = cv_train_model(x_train, y_train, x_test, y_test, model=model,  folds=stratified_folds)"
   ]
  },
  {
   "cell_type": "code",
   "execution_count": 255,
   "metadata": {},
   "outputs": [
    {
     "name": "stdout",
     "output_type": "stream",
     "text": [
      "Requirement already satisfied: eli5 in c:\\users\\user\\anaconda3\\lib\\site-packages (0.10.1)\n",
      "Requirement already satisfied: six in c:\\users\\user\\anaconda3\\lib\\site-packages (from eli5) (1.15.0)\n",
      "Requirement already satisfied: scipy in c:\\users\\user\\anaconda3\\lib\\site-packages (from eli5) (1.5.0)\n",
      "Requirement already satisfied: jinja2 in c:\\users\\user\\anaconda3\\lib\\site-packages (from eli5) (2.11.2)\n",
      "Requirement already satisfied: scikit-learn>=0.18 in c:\\users\\user\\anaconda3\\lib\\site-packages (from eli5) (0.23.1)\n",
      "Requirement already satisfied: tabulate>=0.7.7 in c:\\users\\user\\anaconda3\\lib\\site-packages (from eli5) (0.8.7)\n",
      "Requirement already satisfied: attrs>16.0.0 in c:\\users\\user\\anaconda3\\lib\\site-packages (from eli5) (19.3.0)\n",
      "Requirement already satisfied: graphviz in c:\\users\\user\\anaconda3\\lib\\site-packages (from eli5) (0.14.2)\n",
      "Requirement already satisfied: numpy>=1.9.0 in c:\\users\\user\\anaconda3\\lib\\site-packages (from eli5) (1.18.0)\n",
      "Requirement already satisfied: MarkupSafe>=0.23 in c:\\users\\user\\anaconda3\\lib\\site-packages (from jinja2->eli5) (1.1.1)\n",
      "Requirement already satisfied: joblib>=0.11 in c:\\users\\user\\anaconda3\\lib\\site-packages (from scikit-learn>=0.18->eli5) (0.16.0)\n",
      "Requirement already satisfied: threadpoolctl>=2.0.0 in c:\\users\\user\\anaconda3\\lib\\site-packages (from scikit-learn>=0.18->eli5) (2.1.0)\n"
     ]
    }
   ],
   "source": [
    "!pip install eli5\n",
    "import eli5\n",
    "from eli5.sklearn import PermutationImportance"
   ]
  },
  {
   "cell_type": "code",
   "execution_count": 256,
   "metadata": {},
   "outputs": [
    {
     "data": {
      "text/html": [
       "\n",
       "    <style>\n",
       "    table.eli5-weights tr:hover {\n",
       "        filter: brightness(85%);\n",
       "    }\n",
       "</style>\n",
       "\n",
       "\n",
       "\n",
       "    \n",
       "\n",
       "    \n",
       "\n",
       "    \n",
       "\n",
       "    \n",
       "\n",
       "    \n",
       "\n",
       "    \n",
       "\n",
       "\n",
       "    \n",
       "\n",
       "    \n",
       "\n",
       "    \n",
       "\n",
       "    \n",
       "        \n",
       "\n",
       "    \n",
       "\n",
       "        \n",
       "            \n",
       "                \n",
       "                \n",
       "    \n",
       "        <p style=\"margin-bottom: 0.5em; margin-top: 0em\">\n",
       "            <b>\n",
       "    \n",
       "        y=1.0\n",
       "    \n",
       "</b>\n",
       "\n",
       "top features\n",
       "        </p>\n",
       "    \n",
       "    <table class=\"eli5-weights\"\n",
       "           style=\"border-collapse: collapse; border: none; margin-top: 0em; table-layout: auto; margin-bottom: 2em;\">\n",
       "        <thead>\n",
       "        <tr style=\"border: none;\">\n",
       "            \n",
       "                <th style=\"padding: 0 1em 0 0.5em; text-align: right; border: none;\" title=\"Feature weights. Note that weights do not account for feature value scales, so if feature values have different scales, features with highest weights might not be the most important.\">\n",
       "                    Weight<sup>?</sup>\n",
       "                </th>\n",
       "            \n",
       "            <th style=\"padding: 0 0.5em 0 0.5em; text-align: left; border: none;\">Feature</th>\n",
       "            \n",
       "        </tr>\n",
       "        </thead>\n",
       "        <tbody>\n",
       "        \n",
       "            <tr style=\"background-color: hsl(120, 100.00%, 80.00%); border: none;\">\n",
       "    <td style=\"padding: 0 1em 0 0.5em; text-align: right; border: none;\">\n",
       "        +3.438\n",
       "    </td>\n",
       "    <td style=\"padding: 0 0.5em 0 0.5em; text-align: left; border: none;\">\n",
       "        x4041\n",
       "    </td>\n",
       "    \n",
       "</tr>\n",
       "        \n",
       "            <tr style=\"background-color: hsl(120, 100.00%, 87.04%); border: none;\">\n",
       "    <td style=\"padding: 0 1em 0 0.5em; text-align: right; border: none;\">\n",
       "        +1.851\n",
       "    </td>\n",
       "    <td style=\"padding: 0 0.5em 0 0.5em; text-align: left; border: none;\">\n",
       "        x3929\n",
       "    </td>\n",
       "    \n",
       "</tr>\n",
       "        \n",
       "            <tr style=\"background-color: hsl(120, 100.00%, 89.34%); border: none;\">\n",
       "    <td style=\"padding: 0 1em 0 0.5em; text-align: right; border: none;\">\n",
       "        +1.400\n",
       "    </td>\n",
       "    <td style=\"padding: 0 0.5em 0 0.5em; text-align: left; border: none;\">\n",
       "        x4422\n",
       "    </td>\n",
       "    \n",
       "</tr>\n",
       "        \n",
       "            <tr style=\"background-color: hsl(120, 100.00%, 89.49%); border: none;\">\n",
       "    <td style=\"padding: 0 1em 0 0.5em; text-align: right; border: none;\">\n",
       "        +1.372\n",
       "    </td>\n",
       "    <td style=\"padding: 0 0.5em 0 0.5em; text-align: left; border: none;\">\n",
       "        x4033\n",
       "    </td>\n",
       "    \n",
       "</tr>\n",
       "        \n",
       "            <tr style=\"background-color: hsl(120, 100.00%, 90.03%); border: none;\">\n",
       "    <td style=\"padding: 0 1em 0 0.5em; text-align: right; border: none;\">\n",
       "        +1.272\n",
       "    </td>\n",
       "    <td style=\"padding: 0 0.5em 0 0.5em; text-align: left; border: none;\">\n",
       "        x4409\n",
       "    </td>\n",
       "    \n",
       "</tr>\n",
       "        \n",
       "            <tr style=\"background-color: hsl(120, 100.00%, 90.37%); border: none;\">\n",
       "    <td style=\"padding: 0 1em 0 0.5em; text-align: right; border: none;\">\n",
       "        +1.210\n",
       "    </td>\n",
       "    <td style=\"padding: 0 0.5em 0 0.5em; text-align: left; border: none;\">\n",
       "        x3233\n",
       "    </td>\n",
       "    \n",
       "</tr>\n",
       "        \n",
       "            <tr style=\"background-color: hsl(120, 100.00%, 90.54%); border: none;\">\n",
       "    <td style=\"padding: 0 1em 0 0.5em; text-align: right; border: none;\">\n",
       "        +1.180\n",
       "    </td>\n",
       "    <td style=\"padding: 0 0.5em 0 0.5em; text-align: left; border: none;\">\n",
       "        x669\n",
       "    </td>\n",
       "    \n",
       "</tr>\n",
       "        \n",
       "            <tr style=\"background-color: hsl(120, 100.00%, 90.67%); border: none;\">\n",
       "    <td style=\"padding: 0 1em 0 0.5em; text-align: right; border: none;\">\n",
       "        +1.157\n",
       "    </td>\n",
       "    <td style=\"padding: 0 0.5em 0 0.5em; text-align: left; border: none;\">\n",
       "        x3360\n",
       "    </td>\n",
       "    \n",
       "</tr>\n",
       "        \n",
       "            <tr style=\"background-color: hsl(120, 100.00%, 90.72%); border: none;\">\n",
       "    <td style=\"padding: 0 1em 0 0.5em; text-align: right; border: none;\">\n",
       "        +1.148\n",
       "    </td>\n",
       "    <td style=\"padding: 0 0.5em 0 0.5em; text-align: left; border: none;\">\n",
       "        x318\n",
       "    </td>\n",
       "    \n",
       "</tr>\n",
       "        \n",
       "            <tr style=\"background-color: hsl(120, 100.00%, 91.24%); border: none;\">\n",
       "    <td style=\"padding: 0 1em 0 0.5em; text-align: right; border: none;\">\n",
       "        +1.057\n",
       "    </td>\n",
       "    <td style=\"padding: 0 0.5em 0 0.5em; text-align: left; border: none;\">\n",
       "        x3507\n",
       "    </td>\n",
       "    \n",
       "</tr>\n",
       "        \n",
       "            <tr style=\"background-color: hsl(120, 100.00%, 91.26%); border: none;\">\n",
       "    <td style=\"padding: 0 1em 0 0.5em; text-align: right; border: none;\">\n",
       "        +1.054\n",
       "    </td>\n",
       "    <td style=\"padding: 0 0.5em 0 0.5em; text-align: left; border: none;\">\n",
       "        x2716\n",
       "    </td>\n",
       "    \n",
       "</tr>\n",
       "        \n",
       "            <tr style=\"background-color: hsl(120, 100.00%, 91.33%); border: none;\">\n",
       "    <td style=\"padding: 0 1em 0 0.5em; text-align: right; border: none;\">\n",
       "        +1.041\n",
       "    </td>\n",
       "    <td style=\"padding: 0 0.5em 0 0.5em; text-align: left; border: none;\">\n",
       "        x361\n",
       "    </td>\n",
       "    \n",
       "</tr>\n",
       "        \n",
       "            <tr style=\"background-color: hsl(120, 100.00%, 91.45%); border: none;\">\n",
       "    <td style=\"padding: 0 1em 0 0.5em; text-align: right; border: none;\">\n",
       "        +1.022\n",
       "    </td>\n",
       "    <td style=\"padding: 0 0.5em 0 0.5em; text-align: left; border: none;\">\n",
       "        x2977\n",
       "    </td>\n",
       "    \n",
       "</tr>\n",
       "        \n",
       "            <tr style=\"background-color: hsl(120, 100.00%, 91.76%); border: none;\">\n",
       "    <td style=\"padding: 0 1em 0 0.5em; text-align: right; border: none;\">\n",
       "        +0.968\n",
       "    </td>\n",
       "    <td style=\"padding: 0 0.5em 0 0.5em; text-align: left; border: none;\">\n",
       "        x1347\n",
       "    </td>\n",
       "    \n",
       "</tr>\n",
       "        \n",
       "            <tr style=\"background-color: hsl(120, 100.00%, 91.96%); border: none;\">\n",
       "    <td style=\"padding: 0 1em 0 0.5em; text-align: right; border: none;\">\n",
       "        +0.935\n",
       "    </td>\n",
       "    <td style=\"padding: 0 0.5em 0 0.5em; text-align: left; border: none;\">\n",
       "        x2106\n",
       "    </td>\n",
       "    \n",
       "</tr>\n",
       "        \n",
       "            <tr style=\"background-color: hsl(120, 100.00%, 92.35%); border: none;\">\n",
       "    <td style=\"padding: 0 1em 0 0.5em; text-align: right; border: none;\">\n",
       "        +0.872\n",
       "    </td>\n",
       "    <td style=\"padding: 0 0.5em 0 0.5em; text-align: left; border: none;\">\n",
       "        x3844\n",
       "    </td>\n",
       "    \n",
       "</tr>\n",
       "        \n",
       "            <tr style=\"background-color: hsl(120, 100.00%, 92.50%); border: none;\">\n",
       "    <td style=\"padding: 0 1em 0 0.5em; text-align: right; border: none;\">\n",
       "        +0.846\n",
       "    </td>\n",
       "    <td style=\"padding: 0 0.5em 0 0.5em; text-align: left; border: none;\">\n",
       "        x2525\n",
       "    </td>\n",
       "    \n",
       "</tr>\n",
       "        \n",
       "            <tr style=\"background-color: hsl(120, 100.00%, 92.69%); border: none;\">\n",
       "    <td style=\"padding: 0 1em 0 0.5em; text-align: right; border: none;\">\n",
       "        +0.816\n",
       "    </td>\n",
       "    <td style=\"padding: 0 0.5em 0 0.5em; text-align: left; border: none;\">\n",
       "        x840\n",
       "    </td>\n",
       "    \n",
       "</tr>\n",
       "        \n",
       "            <tr style=\"background-color: hsl(120, 100.00%, 92.77%); border: none;\">\n",
       "    <td style=\"padding: 0 1em 0 0.5em; text-align: right; border: none;\">\n",
       "        +0.803\n",
       "    </td>\n",
       "    <td style=\"padding: 0 0.5em 0 0.5em; text-align: left; border: none;\">\n",
       "        x4318\n",
       "    </td>\n",
       "    \n",
       "</tr>\n",
       "        \n",
       "            <tr style=\"background-color: hsl(120, 100.00%, 92.78%); border: none;\">\n",
       "    <td style=\"padding: 0 1em 0 0.5em; text-align: right; border: none;\">\n",
       "        +0.803\n",
       "    </td>\n",
       "    <td style=\"padding: 0 0.5em 0 0.5em; text-align: left; border: none;\">\n",
       "        x1135\n",
       "    </td>\n",
       "    \n",
       "</tr>\n",
       "        \n",
       "            <tr style=\"background-color: hsl(120, 100.00%, 92.88%); border: none;\">\n",
       "    <td style=\"padding: 0 1em 0 0.5em; text-align: right; border: none;\">\n",
       "        +0.786\n",
       "    </td>\n",
       "    <td style=\"padding: 0 0.5em 0 0.5em; text-align: left; border: none;\">\n",
       "        x742\n",
       "    </td>\n",
       "    \n",
       "</tr>\n",
       "        \n",
       "            <tr style=\"background-color: hsl(120, 100.00%, 92.93%); border: none;\">\n",
       "    <td style=\"padding: 0 1em 0 0.5em; text-align: right; border: none;\">\n",
       "        +0.778\n",
       "    </td>\n",
       "    <td style=\"padding: 0 0.5em 0 0.5em; text-align: left; border: none;\">\n",
       "        x2544\n",
       "    </td>\n",
       "    \n",
       "</tr>\n",
       "        \n",
       "            <tr style=\"background-color: hsl(120, 100.00%, 93.14%); border: none;\">\n",
       "    <td style=\"padding: 0 1em 0 0.5em; text-align: right; border: none;\">\n",
       "        +0.745\n",
       "    </td>\n",
       "    <td style=\"padding: 0 0.5em 0 0.5em; text-align: left; border: none;\">\n",
       "        x2572\n",
       "    </td>\n",
       "    \n",
       "</tr>\n",
       "        \n",
       "            <tr style=\"background-color: hsl(120, 100.00%, 93.17%); border: none;\">\n",
       "    <td style=\"padding: 0 1em 0 0.5em; text-align: right; border: none;\">\n",
       "        +0.741\n",
       "    </td>\n",
       "    <td style=\"padding: 0 0.5em 0 0.5em; text-align: left; border: none;\">\n",
       "        x409\n",
       "    </td>\n",
       "    \n",
       "</tr>\n",
       "        \n",
       "            <tr style=\"background-color: hsl(120, 100.00%, 93.25%); border: none;\">\n",
       "    <td style=\"padding: 0 1em 0 0.5em; text-align: right; border: none;\">\n",
       "        +0.728\n",
       "    </td>\n",
       "    <td style=\"padding: 0 0.5em 0 0.5em; text-align: left; border: none;\">\n",
       "        x1345\n",
       "    </td>\n",
       "    \n",
       "</tr>\n",
       "        \n",
       "            <tr style=\"background-color: hsl(120, 100.00%, 93.40%); border: none;\">\n",
       "    <td style=\"padding: 0 1em 0 0.5em; text-align: right; border: none;\">\n",
       "        +0.706\n",
       "    </td>\n",
       "    <td style=\"padding: 0 0.5em 0 0.5em; text-align: left; border: none;\">\n",
       "        x3722\n",
       "    </td>\n",
       "    \n",
       "</tr>\n",
       "        \n",
       "            <tr style=\"background-color: hsl(120, 100.00%, 93.49%); border: none;\">\n",
       "    <td style=\"padding: 0 1em 0 0.5em; text-align: right; border: none;\">\n",
       "        +0.691\n",
       "    </td>\n",
       "    <td style=\"padding: 0 0.5em 0 0.5em; text-align: left; border: none;\">\n",
       "        x1625\n",
       "    </td>\n",
       "    \n",
       "</tr>\n",
       "        \n",
       "            <tr style=\"background-color: hsl(120, 100.00%, 93.55%); border: none;\">\n",
       "    <td style=\"padding: 0 1em 0 0.5em; text-align: right; border: none;\">\n",
       "        +0.682\n",
       "    </td>\n",
       "    <td style=\"padding: 0 0.5em 0 0.5em; text-align: left; border: none;\">\n",
       "        x4193\n",
       "    </td>\n",
       "    \n",
       "</tr>\n",
       "        \n",
       "            <tr style=\"background-color: hsl(120, 100.00%, 93.56%); border: none;\">\n",
       "    <td style=\"padding: 0 1em 0 0.5em; text-align: right; border: none;\">\n",
       "        +0.681\n",
       "    </td>\n",
       "    <td style=\"padding: 0 0.5em 0 0.5em; text-align: left; border: none;\">\n",
       "        x1006\n",
       "    </td>\n",
       "    \n",
       "</tr>\n",
       "        \n",
       "            <tr style=\"background-color: hsl(120, 100.00%, 93.82%); border: none;\">\n",
       "    <td style=\"padding: 0 1em 0 0.5em; text-align: right; border: none;\">\n",
       "        +0.643\n",
       "    </td>\n",
       "    <td style=\"padding: 0 0.5em 0 0.5em; text-align: left; border: none;\">\n",
       "        x893\n",
       "    </td>\n",
       "    \n",
       "</tr>\n",
       "        \n",
       "            <tr style=\"background-color: hsl(120, 100.00%, 93.84%); border: none;\">\n",
       "    <td style=\"padding: 0 1em 0 0.5em; text-align: right; border: none;\">\n",
       "        +0.639\n",
       "    </td>\n",
       "    <td style=\"padding: 0 0.5em 0 0.5em; text-align: left; border: none;\">\n",
       "        x3606\n",
       "    </td>\n",
       "    \n",
       "</tr>\n",
       "        \n",
       "            <tr style=\"background-color: hsl(120, 100.00%, 93.85%); border: none;\">\n",
       "    <td style=\"padding: 0 1em 0 0.5em; text-align: right; border: none;\">\n",
       "        +0.637\n",
       "    </td>\n",
       "    <td style=\"padding: 0 0.5em 0 0.5em; text-align: left; border: none;\">\n",
       "        x2665\n",
       "    </td>\n",
       "    \n",
       "</tr>\n",
       "        \n",
       "            <tr style=\"background-color: hsl(120, 100.00%, 93.93%); border: none;\">\n",
       "    <td style=\"padding: 0 1em 0 0.5em; text-align: right; border: none;\">\n",
       "        +0.627\n",
       "    </td>\n",
       "    <td style=\"padding: 0 0.5em 0 0.5em; text-align: left; border: none;\">\n",
       "        x1733\n",
       "    </td>\n",
       "    \n",
       "</tr>\n",
       "        \n",
       "            <tr style=\"background-color: hsl(120, 100.00%, 93.99%); border: none;\">\n",
       "    <td style=\"padding: 0 1em 0 0.5em; text-align: right; border: none;\">\n",
       "        +0.617\n",
       "    </td>\n",
       "    <td style=\"padding: 0 0.5em 0 0.5em; text-align: left; border: none;\">\n",
       "        x2459\n",
       "    </td>\n",
       "    \n",
       "</tr>\n",
       "        \n",
       "            <tr style=\"background-color: hsl(120, 100.00%, 94.04%); border: none;\">\n",
       "    <td style=\"padding: 0 1em 0 0.5em; text-align: right; border: none;\">\n",
       "        +0.609\n",
       "    </td>\n",
       "    <td style=\"padding: 0 0.5em 0 0.5em; text-align: left; border: none;\">\n",
       "        x1605\n",
       "    </td>\n",
       "    \n",
       "</tr>\n",
       "        \n",
       "            <tr style=\"background-color: hsl(120, 100.00%, 94.08%); border: none;\">\n",
       "    <td style=\"padding: 0 1em 0 0.5em; text-align: right; border: none;\">\n",
       "        +0.603\n",
       "    </td>\n",
       "    <td style=\"padding: 0 0.5em 0 0.5em; text-align: left; border: none;\">\n",
       "        x4467\n",
       "    </td>\n",
       "    \n",
       "</tr>\n",
       "        \n",
       "        \n",
       "            <tr style=\"background-color: hsl(120, 100.00%, 94.08%); border: none;\">\n",
       "                <td colspan=\"2\" style=\"padding: 0 0.5em 0 0.5em; text-align: center; border: none; white-space: nowrap;\">\n",
       "                    <i>&hellip; 1491 more positive &hellip;</i>\n",
       "                </td>\n",
       "            </tr>\n",
       "        \n",
       "\n",
       "        \n",
       "            <tr style=\"background-color: hsl(0, 100.00%, 94.08%); border: none;\">\n",
       "                <td colspan=\"2\" style=\"padding: 0 0.5em 0 0.5em; text-align: center; border: none; white-space: nowrap;\">\n",
       "                    <i>&hellip; 1689 more negative &hellip;</i>\n",
       "                </td>\n",
       "            </tr>\n",
       "        \n",
       "        \n",
       "            <tr style=\"background-color: hsl(0, 100.00%, 94.08%); border: none;\">\n",
       "    <td style=\"padding: 0 1em 0 0.5em; text-align: right; border: none;\">\n",
       "        -0.603\n",
       "    </td>\n",
       "    <td style=\"padding: 0 0.5em 0 0.5em; text-align: left; border: none;\">\n",
       "        x1892\n",
       "    </td>\n",
       "    \n",
       "</tr>\n",
       "        \n",
       "            <tr style=\"background-color: hsl(0, 100.00%, 94.01%); border: none;\">\n",
       "    <td style=\"padding: 0 1em 0 0.5em; text-align: right; border: none;\">\n",
       "        -0.614\n",
       "    </td>\n",
       "    <td style=\"padding: 0 0.5em 0 0.5em; text-align: left; border: none;\">\n",
       "        x3573\n",
       "    </td>\n",
       "    \n",
       "</tr>\n",
       "        \n",
       "            <tr style=\"background-color: hsl(0, 100.00%, 93.92%); border: none;\">\n",
       "    <td style=\"padding: 0 1em 0 0.5em; text-align: right; border: none;\">\n",
       "        -0.627\n",
       "    </td>\n",
       "    <td style=\"padding: 0 0.5em 0 0.5em; text-align: left; border: none;\">\n",
       "        x1993\n",
       "    </td>\n",
       "    \n",
       "</tr>\n",
       "        \n",
       "            <tr style=\"background-color: hsl(0, 100.00%, 93.85%); border: none;\">\n",
       "    <td style=\"padding: 0 1em 0 0.5em; text-align: right; border: none;\">\n",
       "        -0.638\n",
       "    </td>\n",
       "    <td style=\"padding: 0 0.5em 0 0.5em; text-align: left; border: none;\">\n",
       "        x2390\n",
       "    </td>\n",
       "    \n",
       "</tr>\n",
       "        \n",
       "            <tr style=\"background-color: hsl(0, 100.00%, 93.82%); border: none;\">\n",
       "    <td style=\"padding: 0 1em 0 0.5em; text-align: right; border: none;\">\n",
       "        -0.642\n",
       "    </td>\n",
       "    <td style=\"padding: 0 0.5em 0 0.5em; text-align: left; border: none;\">\n",
       "        x392\n",
       "    </td>\n",
       "    \n",
       "</tr>\n",
       "        \n",
       "            <tr style=\"background-color: hsl(0, 100.00%, 93.77%); border: none;\">\n",
       "    <td style=\"padding: 0 1em 0 0.5em; text-align: right; border: none;\">\n",
       "        -0.650\n",
       "    </td>\n",
       "    <td style=\"padding: 0 0.5em 0 0.5em; text-align: left; border: none;\">\n",
       "        x2540\n",
       "    </td>\n",
       "    \n",
       "</tr>\n",
       "        \n",
       "            <tr style=\"background-color: hsl(0, 100.00%, 93.63%); border: none;\">\n",
       "    <td style=\"padding: 0 1em 0 0.5em; text-align: right; border: none;\">\n",
       "        -0.670\n",
       "    </td>\n",
       "    <td style=\"padding: 0 0.5em 0 0.5em; text-align: left; border: none;\">\n",
       "        x2046\n",
       "    </td>\n",
       "    \n",
       "</tr>\n",
       "        \n",
       "            <tr style=\"background-color: hsl(0, 100.00%, 93.56%); border: none;\">\n",
       "    <td style=\"padding: 0 1em 0 0.5em; text-align: right; border: none;\">\n",
       "        -0.681\n",
       "    </td>\n",
       "    <td style=\"padding: 0 0.5em 0 0.5em; text-align: left; border: none;\">\n",
       "        x2705\n",
       "    </td>\n",
       "    \n",
       "</tr>\n",
       "        \n",
       "            <tr style=\"background-color: hsl(0, 100.00%, 93.39%); border: none;\">\n",
       "    <td style=\"padding: 0 1em 0 0.5em; text-align: right; border: none;\">\n",
       "        -0.707\n",
       "    </td>\n",
       "    <td style=\"padding: 0 0.5em 0 0.5em; text-align: left; border: none;\">\n",
       "        &lt;BIAS&gt;\n",
       "    </td>\n",
       "    \n",
       "</tr>\n",
       "        \n",
       "            <tr style=\"background-color: hsl(0, 100.00%, 93.33%); border: none;\">\n",
       "    <td style=\"padding: 0 1em 0 0.5em; text-align: right; border: none;\">\n",
       "        -0.717\n",
       "    </td>\n",
       "    <td style=\"padding: 0 0.5em 0 0.5em; text-align: left; border: none;\">\n",
       "        x1339\n",
       "    </td>\n",
       "    \n",
       "</tr>\n",
       "        \n",
       "            <tr style=\"background-color: hsl(0, 100.00%, 93.19%); border: none;\">\n",
       "    <td style=\"padding: 0 1em 0 0.5em; text-align: right; border: none;\">\n",
       "        -0.738\n",
       "    </td>\n",
       "    <td style=\"padding: 0 0.5em 0 0.5em; text-align: left; border: none;\">\n",
       "        x474\n",
       "    </td>\n",
       "    \n",
       "</tr>\n",
       "        \n",
       "            <tr style=\"background-color: hsl(0, 100.00%, 92.75%); border: none;\">\n",
       "    <td style=\"padding: 0 1em 0 0.5em; text-align: right; border: none;\">\n",
       "        -0.807\n",
       "    </td>\n",
       "    <td style=\"padding: 0 0.5em 0 0.5em; text-align: left; border: none;\">\n",
       "        x2389\n",
       "    </td>\n",
       "    \n",
       "</tr>\n",
       "        \n",
       "            <tr style=\"background-color: hsl(0, 100.00%, 92.38%); border: none;\">\n",
       "    <td style=\"padding: 0 1em 0 0.5em; text-align: right; border: none;\">\n",
       "        -0.866\n",
       "    </td>\n",
       "    <td style=\"padding: 0 0.5em 0 0.5em; text-align: left; border: none;\">\n",
       "        x2242\n",
       "    </td>\n",
       "    \n",
       "</tr>\n",
       "        \n",
       "            <tr style=\"background-color: hsl(0, 100.00%, 92.09%); border: none;\">\n",
       "    <td style=\"padding: 0 1em 0 0.5em; text-align: right; border: none;\">\n",
       "        -0.913\n",
       "    </td>\n",
       "    <td style=\"padding: 0 0.5em 0 0.5em; text-align: left; border: none;\">\n",
       "        x3392\n",
       "    </td>\n",
       "    \n",
       "</tr>\n",
       "        \n",
       "\n",
       "        </tbody>\n",
       "    </table>\n",
       "\n",
       "            \n",
       "        \n",
       "\n",
       "        \n",
       "\n",
       "\n",
       "\n",
       "    \n",
       "\n",
       "    \n",
       "\n",
       "    \n",
       "\n",
       "    \n",
       "\n",
       "\n",
       "    \n",
       "\n",
       "    \n",
       "\n",
       "    \n",
       "\n",
       "    \n",
       "\n",
       "    \n",
       "\n",
       "    \n",
       "\n",
       "\n",
       "    \n",
       "\n",
       "    \n",
       "\n",
       "    \n",
       "\n",
       "    \n",
       "\n",
       "    \n",
       "\n",
       "    \n",
       "\n",
       "\n",
       "\n"
      ],
      "text/plain": [
       "<IPython.core.display.HTML object>"
      ]
     },
     "execution_count": 256,
     "metadata": {},
     "output_type": "execute_result"
    }
   ],
   "source": [
    "eli5.show_weights(model, top=50)"
   ]
  },
  {
   "cell_type": "code",
   "execution_count": 257,
   "metadata": {},
   "outputs": [],
   "source": [
    "eli5_weights = eli5.formatters.as_dataframe.explain_weights_df(model)"
   ]
  },
  {
   "cell_type": "code",
   "execution_count": 258,
   "metadata": {},
   "outputs": [
    {
     "data": {
      "text/html": [
       "<div>\n",
       "<style scoped>\n",
       "    .dataframe tbody tr th:only-of-type {\n",
       "        vertical-align: middle;\n",
       "    }\n",
       "\n",
       "    .dataframe tbody tr th {\n",
       "        vertical-align: top;\n",
       "    }\n",
       "\n",
       "    .dataframe thead th {\n",
       "        text-align: right;\n",
       "    }\n",
       "</style>\n",
       "<table border=\"1\" class=\"dataframe\">\n",
       "  <thead>\n",
       "    <tr style=\"text-align: right;\">\n",
       "      <th></th>\n",
       "      <th>target</th>\n",
       "      <th>feature</th>\n",
       "      <th>weight</th>\n",
       "    </tr>\n",
       "  </thead>\n",
       "  <tbody>\n",
       "    <tr>\n",
       "      <th>0</th>\n",
       "      <td>1.0</td>\n",
       "      <td>x4041</td>\n",
       "      <td>3.438498</td>\n",
       "    </tr>\n",
       "    <tr>\n",
       "      <th>1</th>\n",
       "      <td>1.0</td>\n",
       "      <td>x3929</td>\n",
       "      <td>1.850990</td>\n",
       "    </tr>\n",
       "    <tr>\n",
       "      <th>2</th>\n",
       "      <td>1.0</td>\n",
       "      <td>x4422</td>\n",
       "      <td>1.399535</td>\n",
       "    </tr>\n",
       "    <tr>\n",
       "      <th>3</th>\n",
       "      <td>1.0</td>\n",
       "      <td>x4033</td>\n",
       "      <td>1.372167</td>\n",
       "    </tr>\n",
       "    <tr>\n",
       "      <th>4</th>\n",
       "      <td>1.0</td>\n",
       "      <td>x4409</td>\n",
       "      <td>1.272485</td>\n",
       "    </tr>\n",
       "    <tr>\n",
       "      <th>...</th>\n",
       "      <td>...</td>\n",
       "      <td>...</td>\n",
       "      <td>...</td>\n",
       "    </tr>\n",
       "    <tr>\n",
       "      <th>3225</th>\n",
       "      <td>1.0</td>\n",
       "      <td>x1339</td>\n",
       "      <td>-0.716534</td>\n",
       "    </tr>\n",
       "    <tr>\n",
       "      <th>3226</th>\n",
       "      <td>1.0</td>\n",
       "      <td>x474</td>\n",
       "      <td>-0.737585</td>\n",
       "    </tr>\n",
       "    <tr>\n",
       "      <th>3227</th>\n",
       "      <td>1.0</td>\n",
       "      <td>x2389</td>\n",
       "      <td>-0.806872</td>\n",
       "    </tr>\n",
       "    <tr>\n",
       "      <th>3228</th>\n",
       "      <td>1.0</td>\n",
       "      <td>x2242</td>\n",
       "      <td>-0.866061</td>\n",
       "    </tr>\n",
       "    <tr>\n",
       "      <th>3229</th>\n",
       "      <td>1.0</td>\n",
       "      <td>x3392</td>\n",
       "      <td>-0.913435</td>\n",
       "    </tr>\n",
       "  </tbody>\n",
       "</table>\n",
       "<p>3230 rows × 3 columns</p>\n",
       "</div>"
      ],
      "text/plain": [
       "      target feature    weight\n",
       "0        1.0   x4041  3.438498\n",
       "1        1.0   x3929  1.850990\n",
       "2        1.0   x4422  1.399535\n",
       "3        1.0   x4033  1.372167\n",
       "4        1.0   x4409  1.272485\n",
       "...      ...     ...       ...\n",
       "3225     1.0   x1339 -0.716534\n",
       "3226     1.0    x474 -0.737585\n",
       "3227     1.0   x2389 -0.806872\n",
       "3228     1.0   x2242 -0.866061\n",
       "3229     1.0   x3392 -0.913435\n",
       "\n",
       "[3230 rows x 3 columns]"
      ]
     },
     "execution_count": 258,
     "metadata": {},
     "output_type": "execute_result"
    }
   ],
   "source": [
    "eli5_weights[eli5_weights.target==1]"
   ]
  },
  {
   "cell_type": "code",
   "execution_count": 259,
   "metadata": {},
   "outputs": [],
   "source": [
    "top_features = []\n",
    "for i in range(class_number):\n",
    "    class_features = [int(i[1:]) for i in eli5_weights[eli5_weights.target==i].feature if 'BIAS' not in i]\n",
    "    len(class_features)\n",
    "    top_features += class_features[:1000]"
   ]
  },
  {
   "cell_type": "code",
   "execution_count": 260,
   "metadata": {},
   "outputs": [],
   "source": [
    "len(set(top_features))\n",
    "top_features = list(set(top_features))"
   ]
  },
  {
   "cell_type": "code",
   "execution_count": 266,
   "metadata": {},
   "outputs": [],
   "source": [
    "X_train_eli5 = x_train[:,top_features]\n",
    "X_test_eli5 = x_test[:,top_features]"
   ]
  },
  {
   "cell_type": "code",
   "execution_count": 267,
   "metadata": {},
   "outputs": [
    {
     "data": {
      "text/plain": [
       "(1000, 1000)"
      ]
     },
     "execution_count": 267,
     "metadata": {},
     "output_type": "execute_result"
    }
   ],
   "source": [
    "X_train_eli5.shape"
   ]
  },
  {
   "cell_type": "code",
   "execution_count": 268,
   "metadata": {},
   "outputs": [
    {
     "name": "stdout",
     "output_type": "stream",
     "text": [
      "Cross Validation mean score: 0.7310, std: 0.0369.\n",
      "score on test data: 0.7479\n"
     ]
    }
   ],
   "source": [
    "eli5_model = linear_model.LogisticRegression()\n",
    "prediction_lr, _ = cv_train_model(X_train_eli5, y_train, X_test_eli5, y_test, model=eli5_model, folds = folds)"
   ]
  },
  {
   "cell_type": "code",
   "execution_count": 269,
   "metadata": {},
   "outputs": [
    {
     "name": "stdout",
     "output_type": "stream",
     "text": [
      "Best score: 0.8200000000000001\n",
      "Best parameters: {'C': 1.0, 'class_weight': 'balanced', 'max_iter': 10, 'penalty': 'l2', 'solver': 'liblinear'}\n",
      "Wall time: 4.13 s\n"
     ]
    }
   ],
   "source": [
    "%%time\n",
    "\n",
    "lr = linear_model.LogisticRegression()\n",
    "\n",
    "parameter_grid = {'class_weight' : ['balanced', None],\n",
    "                  'penalty' : ['l2', 'l1'],\n",
    "                  'solver' : ['liblinear', 'saga'],\n",
    "                  'C' : [0.001, 0.01, 0.1, 1.0],\n",
    "                  'max_iter': [2,10,50]\n",
    "                 }\n",
    "\n",
    "grid_search = GridSearchCV(lr, param_grid=parameter_grid, cv=folds, n_jobs=-1, scoring='f1_micro')\n",
    "grid_search.fit(x_train, y_train)\n",
    "print('Best score: {}'.format(grid_search.best_score_))\n",
    "print('Best parameters: {}'.format(grid_search.best_params_))"
   ]
  },
  {
   "cell_type": "code",
   "execution_count": 270,
   "metadata": {},
   "outputs": [
    {
     "name": "stdout",
     "output_type": "stream",
     "text": [
      "Cross Validation mean score: 0.8270, std: 0.0216.\n",
      "score on test data: 0.8490\n"
     ]
    }
   ],
   "source": [
    "model = linear_model.LogisticRegression(**grid_search.best_params_)\n",
    "prediction_lr, scores = cv_train_model(x_train, y_train, x_test, y_test,  model=model, folds = stratified_folds)"
   ]
  },
  {
   "cell_type": "code",
   "execution_count": 271,
   "metadata": {},
   "outputs": [],
   "source": [
    "# lr_probs.argsort()/"
   ]
  },
  {
   "cell_type": "code",
   "execution_count": null,
   "metadata": {},
   "outputs": [],
   "source": []
  },
  {
   "cell_type": "code",
   "execution_count": 272,
   "metadata": {},
   "outputs": [
    {
     "data": {
      "text/plain": [
       "2271    [id315765222|Astalavista], Astalavista, много ...\n",
       "2097                  [id131549091|Лена], Голубая Устрица\n",
       "578     [id413989660|Денис], согласен, собачка главное...\n",
       "2984              [id6257679|Сержи], ну вот это логичнее.\n",
       "1403    [id560090267|Александр], страна перестала бы с...\n",
       "                              ...                        \n",
       "923     [id285196935|Алексей], ебать, расист собрался ...\n",
       "2903    [id461729860|Алексей], ну, я скажу так, что па...\n",
       "1845            [id341223747|Кирилл], как гнут? Руками...\n",
       "1548    [id507822717|Игорь],  ты первый только в списк...\n",
       "1245    [id411336886|Даниил], \\nОни могут взглядом лом...\n",
       "Name: текст, Length: 702, dtype: object"
      ]
     },
     "execution_count": 272,
     "metadata": {},
     "output_type": "execute_result"
    }
   ],
   "source": [
    "data_test['текст']"
   ]
  },
  {
   "cell_type": "code",
   "execution_count": 273,
   "metadata": {},
   "outputs": [
    {
     "name": "stdout",
     "output_type": "stream",
     "text": [
      "Чую кремлебота с горящим пуканом🤣\n",
      "\n",
      "\n",
      "я в курсе всё это фантазии моего больного воображения спорить не стану)\n",
      "\n",
      "\n"
     ]
    },
    {
     "ename": "KeyError",
     "evalue": "2654",
     "output_type": "error",
     "traceback": [
      "\u001b[1;31m---------------------------------------------------------------------------\u001b[0m",
      "\u001b[1;31mKeyError\u001b[0m                                  Traceback (most recent call last)",
      "\u001b[1;32m<ipython-input-273-242fdfaf64ac>\u001b[0m in \u001b[0;36m<module>\u001b[1;34m\u001b[0m\n\u001b[0;32m      1\u001b[0m \u001b[1;32mfor\u001b[0m \u001b[0mi\u001b[0m \u001b[1;32min\u001b[0m \u001b[0mlog_probs\u001b[0m\u001b[1;33m.\u001b[0m\u001b[0margsort\u001b[0m\u001b[1;33m(\u001b[0m\u001b[1;33m)\u001b[0m\u001b[1;33m[\u001b[0m\u001b[1;33m-\u001b[0m\u001b[1;36m15\u001b[0m\u001b[1;33m:\u001b[0m\u001b[1;33m]\u001b[0m\u001b[1;33m[\u001b[0m\u001b[1;33m:\u001b[0m\u001b[1;33m:\u001b[0m\u001b[1;33m-\u001b[0m\u001b[1;36m1\u001b[0m\u001b[1;33m]\u001b[0m\u001b[1;33m:\u001b[0m \u001b[1;31m# 15 most negative\u001b[0m\u001b[1;33m\u001b[0m\u001b[1;33m\u001b[0m\u001b[0m\n\u001b[0;32m      2\u001b[0m     \u001b[0mcount_idx\u001b[0m \u001b[1;33m=\u001b[0m \u001b[1;36m2000\u001b[0m \u001b[1;33m+\u001b[0m \u001b[0mi\u001b[0m\u001b[1;33m\u001b[0m\u001b[1;33m\u001b[0m\u001b[0m\n\u001b[1;32m----> 3\u001b[1;33m     \u001b[0mprint\u001b[0m\u001b[1;33m(\u001b[0m\u001b[0mdata_all\u001b[0m\u001b[1;33m[\u001b[0m\u001b[1;34m'текст'\u001b[0m\u001b[1;33m]\u001b[0m\u001b[1;33m[\u001b[0m\u001b[0mcount_idx\u001b[0m\u001b[1;33m]\u001b[0m\u001b[1;33m)\u001b[0m\u001b[1;33m\u001b[0m\u001b[1;33m\u001b[0m\u001b[0m\n\u001b[0m\u001b[0;32m      4\u001b[0m     \u001b[0mprint\u001b[0m\u001b[1;33m(\u001b[0m\u001b[1;34m'\\n'\u001b[0m\u001b[1;33m)\u001b[0m\u001b[1;33m\u001b[0m\u001b[1;33m\u001b[0m\u001b[0m\n\u001b[0;32m      5\u001b[0m \u001b[1;33m\u001b[0m\u001b[0m\n",
      "\u001b[1;32m~\\anaconda3\\lib\\site-packages\\pandas\\core\\series.py\u001b[0m in \u001b[0;36m__getitem__\u001b[1;34m(self, key)\u001b[0m\n\u001b[0;32m    869\u001b[0m         \u001b[0mkey\u001b[0m \u001b[1;33m=\u001b[0m \u001b[0mcom\u001b[0m\u001b[1;33m.\u001b[0m\u001b[0mapply_if_callable\u001b[0m\u001b[1;33m(\u001b[0m\u001b[0mkey\u001b[0m\u001b[1;33m,\u001b[0m \u001b[0mself\u001b[0m\u001b[1;33m)\u001b[0m\u001b[1;33m\u001b[0m\u001b[1;33m\u001b[0m\u001b[0m\n\u001b[0;32m    870\u001b[0m         \u001b[1;32mtry\u001b[0m\u001b[1;33m:\u001b[0m\u001b[1;33m\u001b[0m\u001b[1;33m\u001b[0m\u001b[0m\n\u001b[1;32m--> 871\u001b[1;33m             \u001b[0mresult\u001b[0m \u001b[1;33m=\u001b[0m \u001b[0mself\u001b[0m\u001b[1;33m.\u001b[0m\u001b[0mindex\u001b[0m\u001b[1;33m.\u001b[0m\u001b[0mget_value\u001b[0m\u001b[1;33m(\u001b[0m\u001b[0mself\u001b[0m\u001b[1;33m,\u001b[0m \u001b[0mkey\u001b[0m\u001b[1;33m)\u001b[0m\u001b[1;33m\u001b[0m\u001b[1;33m\u001b[0m\u001b[0m\n\u001b[0m\u001b[0;32m    872\u001b[0m \u001b[1;33m\u001b[0m\u001b[0m\n\u001b[0;32m    873\u001b[0m             \u001b[1;32mif\u001b[0m \u001b[1;32mnot\u001b[0m \u001b[0mis_scalar\u001b[0m\u001b[1;33m(\u001b[0m\u001b[0mresult\u001b[0m\u001b[1;33m)\u001b[0m\u001b[1;33m:\u001b[0m\u001b[1;33m\u001b[0m\u001b[1;33m\u001b[0m\u001b[0m\n",
      "\u001b[1;32m~\\anaconda3\\lib\\site-packages\\pandas\\core\\indexes\\base.py\u001b[0m in \u001b[0;36mget_value\u001b[1;34m(self, series, key)\u001b[0m\n\u001b[0;32m   4403\u001b[0m         \u001b[0mk\u001b[0m \u001b[1;33m=\u001b[0m \u001b[0mself\u001b[0m\u001b[1;33m.\u001b[0m\u001b[0m_convert_scalar_indexer\u001b[0m\u001b[1;33m(\u001b[0m\u001b[0mk\u001b[0m\u001b[1;33m,\u001b[0m \u001b[0mkind\u001b[0m\u001b[1;33m=\u001b[0m\u001b[1;34m\"getitem\"\u001b[0m\u001b[1;33m)\u001b[0m\u001b[1;33m\u001b[0m\u001b[1;33m\u001b[0m\u001b[0m\n\u001b[0;32m   4404\u001b[0m         \u001b[1;32mtry\u001b[0m\u001b[1;33m:\u001b[0m\u001b[1;33m\u001b[0m\u001b[1;33m\u001b[0m\u001b[0m\n\u001b[1;32m-> 4405\u001b[1;33m             \u001b[1;32mreturn\u001b[0m \u001b[0mself\u001b[0m\u001b[1;33m.\u001b[0m\u001b[0m_engine\u001b[0m\u001b[1;33m.\u001b[0m\u001b[0mget_value\u001b[0m\u001b[1;33m(\u001b[0m\u001b[0ms\u001b[0m\u001b[1;33m,\u001b[0m \u001b[0mk\u001b[0m\u001b[1;33m,\u001b[0m \u001b[0mtz\u001b[0m\u001b[1;33m=\u001b[0m\u001b[0mgetattr\u001b[0m\u001b[1;33m(\u001b[0m\u001b[0mseries\u001b[0m\u001b[1;33m.\u001b[0m\u001b[0mdtype\u001b[0m\u001b[1;33m,\u001b[0m \u001b[1;34m\"tz\"\u001b[0m\u001b[1;33m,\u001b[0m \u001b[1;32mNone\u001b[0m\u001b[1;33m)\u001b[0m\u001b[1;33m)\u001b[0m\u001b[1;33m\u001b[0m\u001b[1;33m\u001b[0m\u001b[0m\n\u001b[0m\u001b[0;32m   4406\u001b[0m         \u001b[1;32mexcept\u001b[0m \u001b[0mKeyError\u001b[0m \u001b[1;32mas\u001b[0m \u001b[0me1\u001b[0m\u001b[1;33m:\u001b[0m\u001b[1;33m\u001b[0m\u001b[1;33m\u001b[0m\u001b[0m\n\u001b[0;32m   4407\u001b[0m             \u001b[1;32mif\u001b[0m \u001b[0mlen\u001b[0m\u001b[1;33m(\u001b[0m\u001b[0mself\u001b[0m\u001b[1;33m)\u001b[0m \u001b[1;33m>\u001b[0m \u001b[1;36m0\u001b[0m \u001b[1;32mand\u001b[0m \u001b[1;33m(\u001b[0m\u001b[0mself\u001b[0m\u001b[1;33m.\u001b[0m\u001b[0mholds_integer\u001b[0m\u001b[1;33m(\u001b[0m\u001b[1;33m)\u001b[0m \u001b[1;32mor\u001b[0m \u001b[0mself\u001b[0m\u001b[1;33m.\u001b[0m\u001b[0mis_boolean\u001b[0m\u001b[1;33m(\u001b[0m\u001b[1;33m)\u001b[0m\u001b[1;33m)\u001b[0m\u001b[1;33m:\u001b[0m\u001b[1;33m\u001b[0m\u001b[1;33m\u001b[0m\u001b[0m\n",
      "\u001b[1;32mpandas\\_libs\\index.pyx\u001b[0m in \u001b[0;36mpandas._libs.index.IndexEngine.get_value\u001b[1;34m()\u001b[0m\n",
      "\u001b[1;32mpandas\\_libs\\index.pyx\u001b[0m in \u001b[0;36mpandas._libs.index.IndexEngine.get_value\u001b[1;34m()\u001b[0m\n",
      "\u001b[1;32mpandas\\_libs\\index.pyx\u001b[0m in \u001b[0;36mpandas._libs.index.IndexEngine.get_loc\u001b[1;34m()\u001b[0m\n",
      "\u001b[1;32mpandas\\_libs\\hashtable_class_helper.pxi\u001b[0m in \u001b[0;36mpandas._libs.hashtable.Int64HashTable.get_item\u001b[1;34m()\u001b[0m\n",
      "\u001b[1;32mpandas\\_libs\\hashtable_class_helper.pxi\u001b[0m in \u001b[0;36mpandas._libs.hashtable.Int64HashTable.get_item\u001b[1;34m()\u001b[0m\n",
      "\u001b[1;31mKeyError\u001b[0m: 2654"
     ]
    }
   ],
   "source": [
    "print('\\n\\n', 'негативные', '\\n\\n')\n",
    "for i in log_probs.argsort()[-15:][::-1]: # 15 most negative\n",
    "#     count_idx = 1000 + i\n",
    "#     print(data_test.shape)\n",
    "    print(data_test.iloc[i]['label'], data_test.iloc[i]['текст'])\n",
    "#     print('\\n')\n",
    "\n",
    "print('\\n\\n', 'позитивные', '\\n')\n",
    "for i in log_probs.argsort()[:15]: # 15 most positive\n",
    "#     count_idx = 1000 + i\n",
    "    print(data_test.iloc[i]['label'], data_test.iloc[i]['текст'])\n",
    "#     print('\\n')"
   ]
  },
  {
   "cell_type": "code",
   "execution_count": null,
   "metadata": {},
   "outputs": [],
   "source": [
    "from sklearn.pipeline import Pipeline\n",
    "from sklearn.feature_extraction.text import TfidfTransformer\n",
    "\n",
    "text_clf = Pipeline([('vect', CountVectorizer()), \n",
    "                     ('tfidf', TfidfTransformer()), \n",
    "                     ('clf', MultinomialNB())])\n",
    "text_clf"
   ]
  },
  {
   "cell_type": "code",
   "execution_count": null,
   "metadata": {},
   "outputs": [],
   "source": [
    "text_clf.fit(data_train['текст_леммат'], data_train['label']) \n",
    "predicted = text_clf.predict(data_test['текст_леммат'])"
   ]
  },
  {
   "cell_type": "code",
   "execution_count": null,
   "metadata": {},
   "outputs": [],
   "source": [
    "acc = accuracy_score(data_test['label'], predicted)\n",
    "micro_f1 = f1_score(data_test['label'], predicted, average = 'micro')\n",
    "micro_p = precision_score(data_test['label'], predicted, average = 'micro')\n",
    "micro_r = recall_score(data_test['label'], predicted, average = 'micro')\n",
    "macro_f1 = f1_score(data_test['label'], predicted, average = 'macro')\n",
    "macro_p = precision_score(data_test['label'], predicted, average = 'macro')\n",
    "macro_r = recall_score(data_test['label'], predicted, average = 'macro')\n",
    "print('acc={0:1.4f}'.format(acc))\n",
    "print('micro F1={0:1.4f}, micro P={1:1.4f}, micro R={2:1.4f}'.format(micro_f1, micro_p, micro_r))\n",
    "print('macro F1={0:1.4f}, macro P={1:1.4f}, macro R={2:1.4f}\\n'.format(macro_f1, macro_p, macro_r))"
   ]
  },
  {
   "cell_type": "code",
   "execution_count": null,
   "metadata": {},
   "outputs": [],
   "source": [
    "log_probs = text_clf.predict_proba(data_test['текст_леммат'])\n",
    "log_probs = log_probs[:, 1]"
   ]
  },
  {
   "cell_type": "code",
   "execution_count": null,
   "metadata": {},
   "outputs": [],
   "source": [
    "for i in log_probs.argsort()[-15:][::-1]: # 15 most negative\n",
    "#     count_idx = 1000 + i\n",
    "#     print(data_test.shape)\n",
    "    print(data_test.iloc[i]['label'], data_test.iloc[i]['текст'])\n",
    "#     print('\\n')\n",
    "\n",
    "print('\\n\\n', 'позитивные', '\\n')\n",
    "for i in log_probs.argsort()[:15]: # 15 most positive\n",
    "#     count_idx = 1000 + i\n",
    "    print(data_test.iloc[i]['label'], data_test.iloc[i]['текст'])\n",
    "#     print('\\n')"
   ]
  },
  {
   "cell_type": "code",
   "execution_count": null,
   "metadata": {},
   "outputs": [],
   "source": []
  }
 ],
 "metadata": {
  "kernelspec": {
   "display_name": "Python 3",
   "language": "python",
   "name": "python3"
  },
  "language_info": {
   "codemirror_mode": {
    "name": "ipython",
    "version": 3
   },
   "file_extension": ".py",
   "mimetype": "text/x-python",
   "name": "python",
   "nbconvert_exporter": "python",
   "pygments_lexer": "ipython3",
   "version": "3.8.3"
  }
 },
 "nbformat": 4,
 "nbformat_minor": 1
}
