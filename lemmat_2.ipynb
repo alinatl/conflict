{
 "cells": [
  {
   "cell_type": "code",
   "execution_count": 39,
   "metadata": {
    "collapsed": false
   },
   "outputs": [],
   "source": [
    "import pandas as pd\n",
    "import re\n",
    "import gensim\n",
    "import pymorphy2\n",
    "import string\n",
    "import nltk\n",
    "# nltk.download()\n",
    "import math\n",
    "import json\n",
    "\n",
    "\n",
    "from nltk.tokenize import word_tokenize\n",
    "from nltk.tokenize import sent_tokenize\n",
    "\n",
    "morph = pymorphy2.MorphAnalyzer()\n",
    "from collections import Counter\n",
    "\n",
    "\n",
    "from nltk.corpus import stopwords\n",
    "stop_words = stopwords.words('russian')\n",
    "stop_words.extend(['что', 'это', 'так', 'вот', 'быть', 'как', 'в', '—', '–', 'к', 'на', '...', 'тот', 'то', \n",
    "                  'это'])"
   ]
  },
  {
   "cell_type": "code",
   "execution_count": 30,
   "metadata": {
    "collapsed": false
   },
   "outputs": [],
   "source": [
    "# сюда вписать название файла \n",
    "# веганы: df_veg.csv\n",
    "# борщ: borsch.csv\n",
    "\n",
    "file = pd.read_csv('borsch.csv', sep = ';')\n"
   ]
  },
  {
   "cell_type": "code",
   "execution_count": 34,
   "metadata": {
    "collapsed": false
   },
   "outputs": [],
   "source": [
    "list_post = list(set(file['post'])) # достает названия постов\n",
    "\n",
    "def tokenize_ru(sentence):\n",
    "    sentence = re.sub(r'[\\!\\?\\.\\-\\(\\)\\:\\;]', '', str(sentence).rstrip(\"']\"))\n",
    "    sentence = sentence.lower()\n",
    "    tokens = sentence.split()\n",
    "    tokens = [i for i in tokens if (i not in string.punctuation)]\n",
    "    tokens = [i for i in tokens if (i not in stop_words)]\n",
    "    tokens = [i for i in tokens if (i[-1] != ',' and i[0] != '[')]\n",
    "    tokens = [i for i in tokens if (i[0:1] != '\\\\U')]\n",
    "    tokens = [morph.parse(i)[0].normal_form for i in tokens]\n",
    "    return tokens\n",
    "\n",
    "# раскомментить только если хочется посмотреть на сырые данные. \n",
    "\n",
    "# list_texts_of_all_post = []\n",
    "# for post in list_post:\n",
    "#     text = file[file['уровень'] > 1][file['post'] == post]['текст'].tolist()\n",
    "#     list_texts_of_all_post.append(text)\n",
    "\n",
    " \n",
    "# Число в квадратных скобках указывает на номер поста в списке list_texts_of_all_post\n",
    "# то есть здесь будут все комментарии под постом, который самый первый в списке\n",
    "\n",
    "# print(list_texts_of_all_post[0])\n",
    "# tokenize_ru(list_texts_of_all_post[0])"
   ]
  },
  {
   "cell_type": "code",
   "execution_count": 35,
   "metadata": {
    "collapsed": true
   },
   "outputs": [],
   "source": [
    "# пока не нужно\n",
    "\n",
    "# def sent_to_words(sentences):\n",
    "#     for sentence in sentences:\n",
    "#         yield(gensim.utils.simple_preprocess(str(sentence), deacc=True))"
   ]
  },
  {
   "cell_type": "code",
   "execution_count": 38,
   "metadata": {
    "collapsed": false
   },
   "outputs": [
    {
     "name": "stdout",
     "output_type": "stream",
     "text": [
      "9338882\n",
      "9336846\n",
      "9367571\n",
      "9326611\n",
      "9355312\n",
      "9330744\n",
      "9302073\n",
      "9318461\n"
     ]
    },
    {
     "name": "stderr",
     "output_type": "stream",
     "text": [
      "C:\\Users\\User\\Anaconda3\\lib\\site-packages\\ipykernel\\__main__.py:14: UserWarning: Boolean Series key will be reindexed to match DataFrame index.\n"
     ]
    },
    {
     "name": "stdout",
     "output_type": "stream",
     "text": [
      "9326662\n",
      "9361489\n",
      "9336923\n",
      "9345120\n",
      "9355383\n",
      "9322626\n",
      "9302150\n",
      "9304202\n",
      "9306267\n",
      "9316528\n",
      "9332915\n",
      "9361588\n",
      "9334970\n",
      "9373883\n",
      "9314528\n",
      "9330917\n",
      "9310443\n",
      "9359597\n",
      "9302254\n",
      "9353455\n",
      "9298159\n",
      "9308406\n",
      "9306367\n",
      "9318656\n",
      "9367814\n",
      "9365768\n",
      "9335053\n",
      "9347342\n",
      "9337102\n",
      "9373977\n",
      "9357594\n",
      "9324826\n",
      "9343263\n",
      "9361702\n",
      "9316658\n",
      "9302331\n",
      "9304387\n",
      "9308492\n",
      "9365839\n",
      "9355605\n",
      "9367896\n",
      "9347416\n",
      "9328989\n",
      "9351530\n",
      "9298283\n",
      "9345395\n",
      "9359743\n",
      "9339263\n",
      "9302400\n",
      "9361808\n",
      "9353620\n",
      "9351578\n",
      "9306533\n",
      "9322924\n",
      "9324980\n",
      "9302454\n",
      "9359821\n",
      "9318870\n",
      "9343452\n",
      "9372133\n",
      "9333231\n",
      "9368055\n",
      "9345531\n",
      "9329150\n",
      "9310726\n",
      "9355784\n",
      "9323027\n",
      "9314841\n",
      "9374242\n",
      "9368108\n",
      "9353773\n",
      "9364015\n",
      "9298480\n",
      "9335347\n",
      "9372212\n",
      "9306681\n",
      "9300547\n",
      "9302600\n",
      "9318991\n",
      "9347668\n",
      "9343576\n",
      "9325145\n",
      "9323104\n",
      "9364084\n",
      "9308792\n",
      "9333379\n",
      "9372298\n",
      "9355925\n",
      "9319064\n",
      "9368222\n",
      "9366174\n",
      "9362086\n",
      "9317042\n",
      "9325238\n",
      "9343673\n",
      "9364155\n",
      "9302715\n",
      "9298629\n",
      "9327321\n",
      "9335519\n",
      "9360098\n",
      "9306851\n",
      "9323237\n",
      "9358054\n",
      "9351912\n",
      "9315049\n",
      "9374457\n",
      "9349891\n",
      "9310983\n",
      "9300745\n",
      "9325329\n",
      "9368343\n",
      "9317143\n",
      "9345831\n",
      "9347886\n",
      "9319220\n",
      "9372475\n",
      "9370442\n",
      "9300817\n",
      "9302868\n",
      "9354072\n",
      "9356127\n",
      "9317226\n",
      "9374574\n",
      "9331567\n",
      "9329519\n",
      "9352050\n",
      "9358200\n",
      "9337733\n",
      "9319303\n",
      "9327499\n",
      "9350034\n",
      "9300888\n",
      "9341858\n",
      "9315234\n",
      "9335721\n",
      "9321394\n",
      "9327539\n",
      "9329588\n",
      "9364408\n",
      "9352126\n",
      "9305024\n",
      "9323458\n",
      "9368515\n",
      "9366467\n",
      "9362372\n",
      "9343940\n",
      "9298886\n",
      "9319375\n",
      "9341906\n",
      "9356257\n",
      "9348074\n",
      "9372654\n",
      "9317360\n",
      "9346037\n",
      "9301000\n",
      "9374737\n",
      "9370643\n",
      "9341975\n",
      "9360413\n",
      "9305122\n",
      "9366563\n",
      "9325611\n",
      "9315378\n",
      "9364531\n",
      "9337923\n",
      "9356357\n",
      "9319493\n",
      "9358407\n",
      "9346120\n",
      "9331793\n",
      "9299042\n",
      "9323621\n",
      "9327719\n",
      "9321577\n",
      "9374851\n",
      "9327762\n",
      "9372836\n",
      "9307308\n",
      "9350317\n",
      "9325747\n",
      "9327803\n",
      "9299138\n",
      "9317573\n",
      "9344206\n",
      "9370831\n",
      "9303247\n",
      "9311441\n",
      "9301211\n",
      "9331935\n",
      "9297124\n",
      "9366759\n",
      "9358579\n",
      "9370872\n",
      "9350392\n",
      "9340152\n",
      "9303300\n",
      "9336071\n",
      "9317647\n",
      "9352470\n",
      "9307416\n",
      "9360666\n",
      "9315615\n",
      "9342244\n",
      "9321767\n",
      "9327917\n",
      "9372976\n",
      "9325888\n",
      "9309510\n",
      "9323847\n",
      "9311573\n",
      "9330007\n",
      "9354585\n",
      "9348441\n",
      "9334110\n",
      "9317730\n",
      "9301350\n",
      "9321849\n",
      "9334146\n",
      "9299335\n",
      "9368973\n",
      "9364878\n",
      "9305489\n",
      "9350561\n",
      "9338274\n",
      "9346467\n",
      "9307554\n",
      "9375146\n",
      "9364922\n",
      "9360828\n",
      "9305536\n",
      "9352642\n",
      "9297356\n",
      "9354703\n",
      "9371089\n",
      "9324002\n",
      "9305572\n",
      "9303526\n",
      "9352683\n",
      "9375216\n",
      "9307632\n",
      "9358837\n",
      "9346549\n",
      "9334261\n",
      "9332213\n",
      "9364991\n",
      "9344520\n",
      "9348620\n",
      "9369108\n",
      "9315873\n",
      "9326118\n",
      "9324080\n",
      "9338429\n",
      "9330237\n",
      "9328197\n",
      "9305676\n",
      "9326157\n",
      "9365071\n",
      "9346641\n",
      "9317969\n",
      "9367127\n",
      "9360986\n",
      "9315941\n",
      "9354855\n",
      "9350772\n",
      "9340545\n",
      "9332358\n",
      "9318035\n",
      "9307797\n",
      "9344666\n",
      "9361061\n",
      "9369254\n",
      "9342633\n",
      "9313963\n",
      "9334448\n",
      "9365170\n",
      "9371315\n",
      "9359027\n",
      "9350837\n",
      "9316031\n",
      "9303745\n",
      "9340610\n",
      "9299663\n",
      "9297616\n",
      "9344739\n",
      "9346789\n",
      "9373426\n",
      "9326326\n",
      "9328385\n",
      "9299714\n",
      "9350919\n",
      "9314064\n",
      "9316120\n",
      "9338651\n",
      "9342757\n",
      "9367338\n",
      "9322285\n",
      "9375538\n",
      "9344823\n",
      "9373504\n",
      "9361218\n",
      "9299785\n",
      "9346891\n",
      "9369431\n",
      "9336664\n",
      "9330530\n",
      "9301858\n",
      "9326444\n",
      "9371504\n",
      "9322353\n",
      "9310069\n",
      "9332599\n",
      "9312123\n",
      "9334662\n",
      "9316236\n",
      "9373595\n",
      "9367456\n",
      "9303972\n",
      "9318309\n",
      "9346986\n",
      "9314220\n",
      "9365428\n",
      "9355191\n",
      "9353155\n",
      "9322441\n",
      "9351116\n",
      "9359319\n",
      "9361370\n",
      "9371615\n",
      "9312224\n",
      "9334756\n",
      "9314284\n",
      "9318384\n",
      "9310204\n",
      "9304062\n"
     ]
    }
   ],
   "source": [
    "# запустить. обрабатывает все данные, записывает в post_lemmat список слов\n",
    "# которые встретились под одним постом. это список со списками, где каждый элемент\n",
    "# это комменты под отдельным постом\n",
    "\n",
    "# в выдаче id постов\n",
    "\n",
    "# lemmatizer = WordNetLemmatizer()\n",
    "# total_words_lemmatized = []\n",
    "post_lemmat = []\n",
    "\n",
    "list_post = list(set(file['post']))\n",
    "for post in list_post:\n",
    "    print(post)\n",
    "    text = file[file['уровень'] > 1][file['post'] == post]['текст']\n",
    "    help_post_lemmat = []\n",
    "    for line in text:\n",
    "        if isinstance(line, str):\n",
    "#             total_words_lemmatized.append(tokenize_ru(line))\n",
    "            help_post_lemmat += tokenize_ru(line)\n",
    "    post_lemmat.append(help_post_lemmat)\n",
    "\n",
    "        \n",
    "\n",
    "    \n",
    "\n",
    "# a = Counter(total_words_lemmatized)\n",
    "# print(a)"
   ]
  },
  {
   "cell_type": "code",
   "execution_count": 14,
   "metadata": {
    "collapsed": false
   },
   "outputs": [
    {
     "data": {
      "text/plain": [
       "['антибиотик',\n",
       " 'какой',\n",
       " 'полно',\n",
       " 'отечественный',\n",
       " 'антибиотикорезистентность',\n",
       " 'делать',\n",
       " 'бесполезный',\n",
       " 'сук',\n",
       " 'крысиный',\n",
       " 'упоратай',\n",
       " 'пропагандонин',\n",
       " 'весь',\n",
       " 'равно',\n",
       " 'весь',\n",
       " 'страна',\n",
       " 'лить',\n",
       " 'грязь',\n",
       " 'упороть',\n",
       " 'бот',\n",
       " 'отбить',\n",
       " 'тварь',\n",
       " '\\U0001f937\\u200d♂️',\n",
       " 'главный',\n",
       " 'кровка',\n",
       " 'попасть',\n",
       " 'ондатра',\n",
       " 'покусать',\n",
       " '😨',\n",
       " 'целый',\n",
       " 'стая\\U0001f923\\U0001f923\\U0001f923']"
      ]
     },
     "execution_count": 14,
     "metadata": {},
     "output_type": "execute_result"
    }
   ],
   "source": [
    "\n",
    "# посмотреть список комментариев для первого поста в post_lemmat\n",
    "post_lemmat[0]\n",
    "\n",
    "# не нужно\n",
    "# pattern = re.compile('\\[id\\d+\\|\\w+\\]')\n",
    "# text_del = pattern.findall(text)"
   ]
  },
  {
   "cell_type": "code",
   "execution_count": 45,
   "metadata": {
    "collapsed": false
   },
   "outputs": [],
   "source": [
    "# a = Counter(total_words_lemmatized)\n",
    "\n",
    "# не нужно\n",
    "# print(total_words_lemmatized)"
   ]
  },
  {
   "cell_type": "code",
   "execution_count": 39,
   "metadata": {
    "collapsed": false
   },
   "outputs": [
    {
     "name": "stdout",
     "output_type": "stream",
     "text": [
      "89676\n"
     ]
    }
   ],
   "source": [
    "# создает выводит количество слов, и топ слов по всему паблику\n",
    "\n",
    "post_lemmat_2 = sum(post_lemmat, [])\n",
    "print(len(post_lemmat_2))\n",
    "a_2 = Counter(post_lemmat_2)\n",
    "# print(a) раскомитить перед запуском"
   ]
  },
  {
   "cell_type": "code",
   "execution_count": 21,
   "metadata": {
    "collapsed": false
   },
   "outputs": [],
   "source": [
    "# записывает словарб вида \"id поста\": [слова] в файл \n",
    "new_list_post = []\n",
    "for i in list_post:\n",
    "    i = str(i)\n",
    "    new_list_post.append(i)\n",
    "\n",
    "dict_post = dict(zip(new_list_post, post_lemmat))\n",
    "\n",
    "with open(\"jsonB.json\", \"w\", encoding=\"utf-8\") as file:\n",
    "    json.dump(dict_post, file)"
   ]
  },
  {
   "cell_type": "code",
   "execution_count": 44,
   "metadata": {
    "collapsed": false
   },
   "outputs": [],
   "source": [
    "# dict_post"
   ]
  },
  {
   "cell_type": "code",
   "execution_count": 250,
   "metadata": {
    "collapsed": false
   },
   "outputs": [],
   "source": [
    "# json_string = json.dumps(str(dict_post), 'utf-8')"
   ]
  },
  {
   "cell_type": "markdown",
   "metadata": {},
   "source": [
    "# запускать отсюда"
   ]
  },
  {
   "cell_type": "code",
   "execution_count": 2,
   "metadata": {
    "collapsed": false
   },
   "outputs": [
    {
     "name": "stdout",
     "output_type": "stream",
     "text": [
      "['хуйня', 'подъездный', 'мусор', 'тактичный', 'куртизанка', 'девушка', 'низка', 'социальный', 'ответственность', '2', 'парень', '2', 'готовый', 'крайний', 'почемуть', 'девушка', '🤔', 'заблудший', 'душить', 'ох', 'выдавать', 'желаемый', 'действительный', 'высоко', 'социально', 'ответственный', 'посмотреть', 'человек', 'помогать', 'пшикпшик😂😂😂', 'шведский', 'семья👍', 'профурсетка', 'челик', 'красава', 'рофл', 'доeбался👍', 'автогол😏', 'заебал', 'свой', 'рофлом', 'чувствовать', 'будущее', '75%', 'человек', 'стать', 'наркоман', 'человек', 'который', 'угодный', 'быть', 'реагировать', 'шутка', 'кино', 'один', 'самый', 'который', 'влиять', 'мозги', 'человек', 'отсюда', 'тот', 'который', 'окружать', 'вывод', 'надёжный', 'рассудительный', 'человек', 'интернет', '👍🏻']\n"
     ]
    }
   ],
   "source": [
    "# открывает файл со словарем и выводит комментарии принадлежащие посту\n",
    "# jsonB.json - борщ\n",
    "# jsonV.json - веганы\n",
    "\n",
    "with open ('jsonB.json', 'r', encoding = 'utf-8') as f:\n",
    "    text = json.load(f)\n",
    "    print(text['9297124']) # указать id поста\n",
    "    "
   ]
  },
  {
   "cell_type": "code",
   "execution_count": 3,
   "metadata": {
    "collapsed": false
   },
   "outputs": [],
   "source": [
    "post_lemmat = [] # список слов для каждого поста\n",
    "list_post = [] # список id постов\n",
    "\n",
    "for i in text.items():\n",
    "    list_post.append(i[0])\n",
    "    post_lemmat.append(i[1])\n",
    "    \n",
    "post_lemmat_2 = sum(post_lemmat, [])\n",
    "# список слов во всем паблике\n",
    "\n"
   ]
  },
  {
   "cell_type": "code",
   "execution_count": 4,
   "metadata": {
    "collapsed": false
   },
   "outputs": [
    {
     "name": "stdout",
     "output_type": "stream",
     "text": [
      "343\n",
      "Counter({'тери': 1, 'этот': 1, 'остальной': 1, 'делать': 1, 'эльдар': 1, 'спорить': 1, 'говорить': 1, 'эмоция': 1, 'джараховый': 1, 'всяко': 1, 'слово': 1, 'кокойтый': 1, 'крюс': 1, 'реклама': 1, 'староватый': 1, 'угарный': 1, 'артист': 1, 'бревно': 1, 'джарахуйский': 1, 'стать': 1, 'минимум': 1})\n",
      "9354072\n"
     ]
    }
   ],
   "source": [
    "# для одного поста\n",
    "\n",
    "top_words_post = []\n",
    "print(len(post_lemmat)) # количество постов\n",
    "for List_words in post_lemmat:\n",
    "    a = Counter(List_words)\n",
    "    top_words_post.append(a)\n",
    "\n",
    "print(top_words_post[6]) # в скобках указать номер поста. \n",
    "# чтобы посмотреть id этого комментария надо ниже указать тот же номер\n",
    "print(list_post[6])"
   ]
  },
  {
   "cell_type": "code",
   "execution_count": 5,
   "metadata": {
    "collapsed": false
   },
   "outputs": [
    {
     "name": "stdout",
     "output_type": "stream",
     "text": [
      "89676\n"
     ]
    }
   ],
   "source": [
    "# для всех постов\n",
    "\n",
    "top_words_all = sum(post_lemmat, [])\n",
    "print(len(post_lemmat_2))\n",
    "a_2 = Counter(post_lemmat_2)\n",
    "# print(a) раскомитить перед запуском, чтобы посмотреть"
   ]
  },
  {
   "cell_type": "code",
   "execution_count": 42,
   "metadata": {
    "collapsed": false
   },
   "outputs": [
    {
     "name": "stdout",
     "output_type": "stream",
     "text": [
      "Counter({'9312224': 3, '9343576': 3, '9316031': 2, '9314220': 2, '9310069': 2, '9360413': 2, '9348074': 1, '9297124': 1, '9329150': 1, '9303972': 1, '9332358': 1, '9351116': 1, '9353620': 1, '9325611': 1, '9346549': 1, '9352126': 1, '9352683': 1, '9299785': 1, '9310443': 1})\n"
     ]
    }
   ],
   "source": [
    "word = 'рофл' # вписать нужное слово для поиска id поста\n",
    "\n",
    "post_with_word = []\n",
    "for post in text.items():\n",
    "#     print(post[1])\n",
    "    for i in post[1]:\n",
    "#         print(i)\n",
    "        if word == i:\n",
    "            post_with_word.append(post[0])\n",
    "print(Counter(post_with_word)) # выдает сколько раз под каким постом встретилось слово\n",
    "\n",
    "# сслыка на поиск поста в борще: https://vk.com/borsch?w=wall-460389_# вставить номер id поста прям сюда\n",
    "# для веганов https://vk.com/veganim?w=wall-139197081_\n",
    "            \n",
    "        \n"
   ]
  },
  {
   "cell_type": "code",
   "execution_count": null,
   "metadata": {
    "collapsed": true
   },
   "outputs": [],
   "source": []
  }
 ],
 "metadata": {
  "kernelspec": {
   "display_name": "Python 3",
   "language": "python",
   "name": "python3"
  },
  "language_info": {
   "codemirror_mode": {
    "name": "ipython",
    "version": 3
   },
   "file_extension": ".py",
   "mimetype": "text/x-python",
   "name": "python",
   "nbconvert_exporter": "python",
   "pygments_lexer": "ipython3",
   "version": "3.5.6"
  }
 },
 "nbformat": 4,
 "nbformat_minor": 0
}
