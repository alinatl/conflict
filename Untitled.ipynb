{
 "cells": [
  {
   "cell_type": "code",
   "execution_count": 17,
   "metadata": {
    "collapsed": true
   },
   "outputs": [],
   "source": [
    "import json\n",
    "import string"
   ]
  },
  {
   "cell_type": "code",
   "execution_count": 38,
   "metadata": {
    "collapsed": false
   },
   "outputs": [],
   "source": [
    "with open('count_pub3.txt', 'r') as f:\n",
    "    af = f.read()\n",
    "#     print(af)\n",
    "    slovar = json.loads(af)"
   ]
  },
  {
   "cell_type": "code",
   "execution_count": 40,
   "metadata": {
    "collapsed": false
   },
   "outputs": [
    {
     "name": "stdout",
     "output_type": "stream",
     "text": [
      "dict_keys(['flatearthsociety', 'vso_1', 'veganim', 'tiptu'])\n",
      "795\n"
     ]
    }
   ],
   "source": [
    "print(slovar.keys()) # получить домены пабликов. Они являются ключами словаря slovar\n",
    "\n",
    "# чтобы добраться до всех id конкретного паблика надо сделать что-то такое: \n",
    "# print(slovar['tiptu'].keys()) \n",
    "\n",
    "print(max(slovar['tiptu'].values())) # получить максимальное число комментариев"
   ]
  },
  {
   "cell_type": "code",
   "execution_count": 27,
   "metadata": {
    "collapsed": false
   },
   "outputs": [
    {
     "data": {
      "text/plain": [
       "[('9617240', 52),\n",
       " ('185440367', 52),\n",
       " ('230034369', 52),\n",
       " ('349092508', 54),\n",
       " ('5226606', 55),\n",
       " ('233684', 56),\n",
       " ('97339848', 57),\n",
       " ('133020162', 57),\n",
       " ('1933358', 61),\n",
       " ('48181824', 62),\n",
       " ('73300', 70),\n",
       " ('145553798', 73),\n",
       " ('16324032', 74),\n",
       " ('7151206', 100),\n",
       " ('183858107', 101),\n",
       " ('247196916', 128),\n",
       " ('2154727', 157),\n",
       " ('5227245', 175),\n",
       " ('1144442', 364),\n",
       " ('4182317', 795)]"
      ]
     },
     "execution_count": 27,
     "metadata": {},
     "output_type": "execute_result"
    }
   ],
   "source": [
    "# так можно получить топ 20 по комментариям для каждого паблика\n",
    "\n",
    "sorted_by_value = sorted(slovar['tiptu'].items(), key=lambda kv: kv[1])\n",
    "sorted_by_value[-20:"
   ]
  },
  {
   "cell_type": "code",
   "execution_count": 34,
   "metadata": {
    "collapsed": false
   },
   "outputs": [
    {
     "data": {
      "text/plain": [
       "[('8928357', 92),\n",
       " ('145727964', 103),\n",
       " ('229103257', 106),\n",
       " ('68154014', 108),\n",
       " ('18478138', 108),\n",
       " ('262830080', 112),\n",
       " ('1335309', 128),\n",
       " ('14240263', 132),\n",
       " ('225350934', 164),\n",
       " ('199313845', 166),\n",
       " ('36403988', 173),\n",
       " ('-24096737', 278),\n",
       " ('38162493', 283),\n",
       " ('214535837', 354),\n",
       " ('451325', 373),\n",
       " ('136810780', 428),\n",
       " ('26754724', 575),\n",
       " ('5478507', 845),\n",
       " ('260812569', 1008),\n",
       " ('154330011', 1747)]"
      ]
     },
     "execution_count": 34,
     "metadata": {},
     "output_type": "execute_result"
    }
   ],
   "source": [
    "sorted_by_value = sorted(slovar['flatearthsociety'].items(), key=lambda kv: kv[1])\n",
    "sorted_by_value[-20:]"
   ]
  },
  {
   "cell_type": "code",
   "execution_count": 35,
   "metadata": {
    "collapsed": false
   },
   "outputs": [
    {
     "data": {
      "text/plain": [
       "[('231052013', 177),\n",
       " ('143222584', 181),\n",
       " ('244897776', 183),\n",
       " ('235843452', 189),\n",
       " ('330362651', 206),\n",
       " ('541400746', 218),\n",
       " ('211791804', 230),\n",
       " ('46057430', 236),\n",
       " ('212437626', 248),\n",
       " ('308452402', 249),\n",
       " ('392158420', 277),\n",
       " ('460123936', 301),\n",
       " ('536176261', 340),\n",
       " ('390955569', 376),\n",
       " ('283790582', 389),\n",
       " ('496563765', 390),\n",
       " ('252559851', 493),\n",
       " ('568868081', 525),\n",
       " ('214043919', 576),\n",
       " ('168675339', 924)]"
      ]
     },
     "execution_count": 35,
     "metadata": {},
     "output_type": "execute_result"
    }
   ],
   "source": [
    "sorted_by_value = sorted(slovar['vso_1'].items(), key=lambda kv: kv[1])\n",
    "sorted_by_value[-20:]"
   ]
  },
  {
   "cell_type": "code",
   "execution_count": 37,
   "metadata": {
    "collapsed": false
   },
   "outputs": [
    {
     "data": {
      "text/plain": [
       "[('48668902', 103),\n",
       " ('70490274', 105),\n",
       " ('20492296', 110),\n",
       " ('190798787', 111),\n",
       " ('479069939', 112),\n",
       " ('447670923', 117),\n",
       " ('26523125', 144),\n",
       " ('142638022', 152),\n",
       " ('46023773', 169),\n",
       " ('16530228', 174),\n",
       " ('14246714', 193),\n",
       " ('339711695', 203),\n",
       " ('422255248', 208),\n",
       " ('285509752', 209),\n",
       " ('7681203', 369),\n",
       " ('21762017', 373),\n",
       " ('16574931', 398),\n",
       " ('415288093', 418),\n",
       " ('-139197081', 488),\n",
       " ('45652304', 582)]"
      ]
     },
     "execution_count": 37,
     "metadata": {},
     "output_type": "execute_result"
    }
   ],
   "source": [
    "sorted_by_value = sorted(slovar['veganim'].items(), key=lambda kv: kv[1])\n",
    "sorted_by_value[-20:]"
   ]
  },
  {
   "cell_type": "code",
   "execution_count": null,
   "metadata": {
    "collapsed": true
   },
   "outputs": [],
   "source": []
  }
 ],
 "metadata": {
  "kernelspec": {
   "display_name": "Python 3",
   "language": "python",
   "name": "python3"
  },
  "language_info": {
   "codemirror_mode": {
    "name": "ipython",
    "version": 3
   },
   "file_extension": ".py",
   "mimetype": "text/x-python",
   "name": "python",
   "nbconvert_exporter": "python",
   "pygments_lexer": "ipython3",
   "version": "3.5.6"
  }
 },
 "nbformat": 4,
 "nbformat_minor": 0
}
